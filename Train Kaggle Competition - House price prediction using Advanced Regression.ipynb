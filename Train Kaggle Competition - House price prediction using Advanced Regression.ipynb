{
 "cells": [
  {
   "cell_type": "code",
   "execution_count": 1,
   "metadata": {},
   "outputs": [],
   "source": [
    ## Importing the necessary libraries
    "import pandas as pd\n",
    "import numpy as np\n",
    "import matplotlib.pyplot as plt\n",
    "import seaborn as sns\n",
    "sns.set()"
   ]
  },
  {
   "cell_type": "code",
   "execution_count": 2,
   "metadata": {},
   "outputs": [],
   "source": [
    "df = pd.read_csv(\"train.csv\")"
   ]
  },
  {
   "cell_type": "code",
   "execution_count": 3,
   "metadata": {},
   "outputs": [
    {
     "data": {
      "text/html": [
       "<div>\n",
       "<style scoped>\n",
       "    .dataframe tbody tr th:only-of-type {\n",
       "        vertical-align: middle;\n",
       "    }\n",
       "\n",
       "    .dataframe tbody tr th {\n",
       "        vertical-align: top;\n",
       "    }\n",
       "\n",
       "    .dataframe thead th {\n",
       "        text-align: right;\n",
       "    }\n",
       "</style>\n",
       "<table border=\"1\" class=\"dataframe\">\n",
       "  <thead>\n",
       "    <tr style=\"text-align: right;\">\n",
       "      <th></th>\n",
       "      <th>Id</th>\n",
       "      <th>MSSubClass</th>\n",
       "      <th>MSZoning</th>\n",
       "      <th>LotFrontage</th>\n",
       "      <th>LotArea</th>\n",
       "      <th>Street</th>\n",
       "      <th>Alley</th>\n",
       "      <th>LotShape</th>\n",
       "      <th>LandContour</th>\n",
       "      <th>Utilities</th>\n",
       "      <th>...</th>\n",
       "      <th>PoolArea</th>\n",
       "      <th>PoolQC</th>\n",
       "      <th>Fence</th>\n",
       "      <th>MiscFeature</th>\n",
       "      <th>MiscVal</th>\n",
       "      <th>MoSold</th>\n",
       "      <th>YrSold</th>\n",
       "      <th>SaleType</th>\n",
       "      <th>SaleCondition</th>\n",
       "      <th>SalePrice</th>\n",
       "    </tr>\n",
       "  </thead>\n",
       "  <tbody>\n",
       "    <tr>\n",
       "      <td>0</td>\n",
       "      <td>1</td>\n",
       "      <td>60</td>\n",
       "      <td>RL</td>\n",
       "      <td>65.0</td>\n",
       "      <td>8450</td>\n",
       "      <td>Pave</td>\n",
       "      <td>NaN</td>\n",
       "      <td>Reg</td>\n",
       "      <td>Lvl</td>\n",
       "      <td>AllPub</td>\n",
       "      <td>...</td>\n",
       "      <td>0</td>\n",
       "      <td>NaN</td>\n",
       "      <td>NaN</td>\n",
       "      <td>NaN</td>\n",
       "      <td>0</td>\n",
       "      <td>2</td>\n",
       "      <td>2008</td>\n",
       "      <td>WD</td>\n",
       "      <td>Normal</td>\n",
       "      <td>208500</td>\n",
       "    </tr>\n",
       "    <tr>\n",
       "      <td>1</td>\n",
       "      <td>2</td>\n",
       "      <td>20</td>\n",
       "      <td>RL</td>\n",
       "      <td>80.0</td>\n",
       "      <td>9600</td>\n",
       "      <td>Pave</td>\n",
       "      <td>NaN</td>\n",
       "      <td>Reg</td>\n",
       "      <td>Lvl</td>\n",
       "      <td>AllPub</td>\n",
       "      <td>...</td>\n",
       "      <td>0</td>\n",
       "      <td>NaN</td>\n",
       "      <td>NaN</td>\n",
       "      <td>NaN</td>\n",
       "      <td>0</td>\n",
       "      <td>5</td>\n",
       "      <td>2007</td>\n",
       "      <td>WD</td>\n",
       "      <td>Normal</td>\n",
       "      <td>181500</td>\n",
       "    </tr>\n",
       "    <tr>\n",
       "      <td>2</td>\n",
       "      <td>3</td>\n",
       "      <td>60</td>\n",
       "      <td>RL</td>\n",
       "      <td>68.0</td>\n",
       "      <td>11250</td>\n",
       "      <td>Pave</td>\n",
       "      <td>NaN</td>\n",
       "      <td>IR1</td>\n",
       "      <td>Lvl</td>\n",
       "      <td>AllPub</td>\n",
       "      <td>...</td>\n",
       "      <td>0</td>\n",
       "      <td>NaN</td>\n",
       "      <td>NaN</td>\n",
       "      <td>NaN</td>\n",
       "      <td>0</td>\n",
       "      <td>9</td>\n",
       "      <td>2008</td>\n",
       "      <td>WD</td>\n",
       "      <td>Normal</td>\n",
       "      <td>223500</td>\n",
       "    </tr>\n",
       "    <tr>\n",
       "      <td>3</td>\n",
       "      <td>4</td>\n",
       "      <td>70</td>\n",
       "      <td>RL</td>\n",
       "      <td>60.0</td>\n",
       "      <td>9550</td>\n",
       "      <td>Pave</td>\n",
       "      <td>NaN</td>\n",
       "      <td>IR1</td>\n",
       "      <td>Lvl</td>\n",
       "      <td>AllPub</td>\n",
       "      <td>...</td>\n",
       "      <td>0</td>\n",
       "      <td>NaN</td>\n",
       "      <td>NaN</td>\n",
       "      <td>NaN</td>\n",
       "      <td>0</td>\n",
       "      <td>2</td>\n",
       "      <td>2006</td>\n",
       "      <td>WD</td>\n",
       "      <td>Abnorml</td>\n",
       "      <td>140000</td>\n",
       "    </tr>\n",
       "    <tr>\n",
       "      <td>4</td>\n",
       "      <td>5</td>\n",
       "      <td>60</td>\n",
       "      <td>RL</td>\n",
       "      <td>84.0</td>\n",
       "      <td>14260</td>\n",
       "      <td>Pave</td>\n",
       "      <td>NaN</td>\n",
       "      <td>IR1</td>\n",
       "      <td>Lvl</td>\n",
       "      <td>AllPub</td>\n",
       "      <td>...</td>\n",
       "      <td>0</td>\n",
       "      <td>NaN</td>\n",
       "      <td>NaN</td>\n",
       "      <td>NaN</td>\n",
       "      <td>0</td>\n",
       "      <td>12</td>\n",
       "      <td>2008</td>\n",
       "      <td>WD</td>\n",
       "      <td>Normal</td>\n",
       "      <td>250000</td>\n",
       "    </tr>\n",
       "  </tbody>\n",
       "</table>\n",
       "<p>5 rows × 81 columns</p>\n",
       "</div>"
      ],
      "text/plain": [
       "   Id  MSSubClass MSZoning  LotFrontage  LotArea Street Alley LotShape  \\\n",
       "0   1          60       RL         65.0     8450   Pave   NaN      Reg   \n",
       "1   2          20       RL         80.0     9600   Pave   NaN      Reg   \n",
       "2   3          60       RL         68.0    11250   Pave   NaN      IR1   \n",
       "3   4          70       RL         60.0     9550   Pave   NaN      IR1   \n",
       "4   5          60       RL         84.0    14260   Pave   NaN      IR1   \n",
       "\n",
       "  LandContour Utilities  ... PoolArea PoolQC Fence MiscFeature MiscVal MoSold  \\\n",
       "0         Lvl    AllPub  ...        0    NaN   NaN         NaN       0      2   \n",
       "1         Lvl    AllPub  ...        0    NaN   NaN         NaN       0      5   \n",
       "2         Lvl    AllPub  ...        0    NaN   NaN         NaN       0      9   \n",
       "3         Lvl    AllPub  ...        0    NaN   NaN         NaN       0      2   \n",
       "4         Lvl    AllPub  ...        0    NaN   NaN         NaN       0     12   \n",
       "\n",
       "  YrSold  SaleType  SaleCondition  SalePrice  \n",
       "0   2008        WD         Normal     208500  \n",
       "1   2007        WD         Normal     181500  \n",
       "2   2008        WD         Normal     223500  \n",
       "3   2006        WD        Abnorml     140000  \n",
       "4   2008        WD         Normal     250000  \n",
       "\n",
       "[5 rows x 81 columns]"
      ]
     },
     "execution_count": 3,
     "metadata": {},
     "output_type": "execute_result"
    }
   ],
   "source": [
    "df.head()"
   ]
  },
  {
   "cell_type": "code",
   "execution_count": 4,
   "metadata": {},
   "outputs": [
    {
     "data": {
      "text/plain": [
       "(1460, 81)"
      ]
     },
     "execution_count": 4,
     "metadata": {},
     "output_type": "execute_result"
    }
   ],
   "source": [
    "df.shape"
   ]
  },
  {
   "cell_type": "code",
   "execution_count": 5,
   "metadata": {},
   "outputs": [
    {
     "data": {
      "text/plain": [
       "Index(['Id', 'MSSubClass', 'MSZoning', 'LotFrontage', 'LotArea', 'Street',\n",
       "       'Alley', 'LotShape', 'LandContour', 'Utilities', 'LotConfig',\n",
       "       'LandSlope', 'Neighborhood', 'Condition1', 'Condition2', 'BldgType',\n",
       "       'HouseStyle', 'OverallQual', 'OverallCond', 'YearBuilt', 'YearRemodAdd',\n",
       "       'RoofStyle', 'RoofMatl', 'Exterior1st', 'Exterior2nd', 'MasVnrType',\n",
       "       'MasVnrArea', 'ExterQual', 'ExterCond', 'Foundation', 'BsmtQual',\n",
       "       'BsmtCond', 'BsmtExposure', 'BsmtFinType1', 'BsmtFinSF1',\n",
       "       'BsmtFinType2', 'BsmtFinSF2', 'BsmtUnfSF', 'TotalBsmtSF', 'Heating',\n",
       "       'HeatingQC', 'CentralAir', 'Electrical', '1stFlrSF', '2ndFlrSF',\n",
       "       'LowQualFinSF', 'GrLivArea', 'BsmtFullBath', 'BsmtHalfBath', 'FullBath',\n",
       "       'HalfBath', 'BedroomAbvGr', 'KitchenAbvGr', 'KitchenQual',\n",
       "       'TotRmsAbvGrd', 'Functional', 'Fireplaces', 'FireplaceQu', 'GarageType',\n",
       "       'GarageYrBlt', 'GarageFinish', 'GarageCars', 'GarageArea', 'GarageQual',\n",
       "       'GarageCond', 'PavedDrive', 'WoodDeckSF', 'OpenPorchSF',\n",
       "       'EnclosedPorch', '3SsnPorch', 'ScreenPorch', 'PoolArea', 'PoolQC',\n",
       "       'Fence', 'MiscFeature', 'MiscVal', 'MoSold', 'YrSold', 'SaleType',\n",
       "       'SaleCondition', 'SalePrice'],\n",
       "      dtype='object')"
      ]
     },
     "execution_count": 5,
     "metadata": {},
     "output_type": "execute_result"
    }
   ],
   "source": [
    "df.columns"
   ]
  },
  {
   "cell_type": "code",
   "execution_count": 6,
   "metadata": {},
   "outputs": [],
   "source": [
    "# Exploratory Data Analysis (EDA)"
   ]
  },
  {
   "cell_type": "code",
   "execution_count": 7,
   "metadata": {},
   "outputs": [
    {
     "data": {
      "text/plain": [
       "Id                 0\n",
       "MSSubClass         0\n",
       "MSZoning           0\n",
       "LotFrontage      259\n",
       "LotArea            0\n",
       "                ... \n",
       "MoSold             0\n",
       "YrSold             0\n",
       "SaleType           0\n",
       "SaleCondition      0\n",
       "SalePrice          0\n",
       "Length: 81, dtype: int64"
      ]
     },
     "execution_count": 7,
     "metadata": {},
     "output_type": "execute_result"
    }
   ],
   "source": [
    "df.isnull().sum()"
   ]
  },
  {
   "cell_type": "code",
   "execution_count": 8,
   "metadata": {},
   "outputs": [
    {
     "data": {
      "text/plain": [
       "<matplotlib.axes._subplots.AxesSubplot at 0x1c22424bf48>"
      ]
     },
     "execution_count": 8,
     "metadata": {},
     "output_type": "execute_result"
    },
    {
     "data": {
      "image/png": "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\n",
      "text/plain": [
       "<Figure size 432x288 with 2 Axes>"
      ]
     },
     "metadata": {
      "needs_background": "light"
     },
     "output_type": "display_data"
    }
   ],
   "source": [
    "sns.heatmap(df.isnull())"
   ]
  },
  {
   "cell_type": "code",
   "execution_count": 9,
   "metadata": {},
   "outputs": [
    {
     "data": {
      "text/plain": [
       "<matplotlib.axes._subplots.AxesSubplot at 0x1c2245d9e48>"
      ]
     },
     "execution_count": 9,
     "metadata": {},
     "output_type": "execute_result"
    },
    {
     "data": {
      "image/png": "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\n",
      "text/plain": [
       "<Figure size 432x288 with 1 Axes>"
      ]
     },
     "metadata": {
      "needs_background": "light"
     },
     "output_type": "display_data"
    }
   ],
   "source": [
    "sns.heatmap(df.isnull(), yticklabels = False, cbar = False)"
   ]
  },
  {
   "cell_type": "code",
   "execution_count": 10,
   "metadata": {},
   "outputs": [
    {
     "data": {
      "text/plain": [
       "(1460, 81)"
      ]
     },
     "execution_count": 10,
     "metadata": {},
     "output_type": "execute_result"
    }
   ],
   "source": [
    "df.shape"
   ]
  },
  {
   "cell_type": "code",
   "execution_count": 11,
   "metadata": {},
   "outputs": [
    {
     "name": "stdout",
     "output_type": "stream",
     "text": [
      "<class 'pandas.core.frame.DataFrame'>\n",
      "RangeIndex: 1460 entries, 0 to 1459\n",
      "Data columns (total 81 columns):\n",
      "Id               1460 non-null int64\n",
      "MSSubClass       1460 non-null int64\n",
      "MSZoning         1460 non-null object\n",
      "LotFrontage      1201 non-null float64\n",
      "LotArea          1460 non-null int64\n",
      "Street           1460 non-null object\n",
      "Alley            91 non-null object\n",
      "LotShape         1460 non-null object\n",
      "LandContour      1460 non-null object\n",
      "Utilities        1460 non-null object\n",
      "LotConfig        1460 non-null object\n",
      "LandSlope        1460 non-null object\n",
      "Neighborhood     1460 non-null object\n",
      "Condition1       1460 non-null object\n",
      "Condition2       1460 non-null object\n",
      "BldgType         1460 non-null object\n",
      "HouseStyle       1460 non-null object\n",
      "OverallQual      1460 non-null int64\n",
      "OverallCond      1460 non-null int64\n",
      "YearBuilt        1460 non-null int64\n",
      "YearRemodAdd     1460 non-null int64\n",
      "RoofStyle        1460 non-null object\n",
      "RoofMatl         1460 non-null object\n",
      "Exterior1st      1460 non-null object\n",
      "Exterior2nd      1460 non-null object\n",
      "MasVnrType       1452 non-null object\n",
      "MasVnrArea       1452 non-null float64\n",
      "ExterQual        1460 non-null object\n",
      "ExterCond        1460 non-null object\n",
      "Foundation       1460 non-null object\n",
      "BsmtQual         1423 non-null object\n",
      "BsmtCond         1423 non-null object\n",
      "BsmtExposure     1422 non-null object\n",
      "BsmtFinType1     1423 non-null object\n",
      "BsmtFinSF1       1460 non-null int64\n",
      "BsmtFinType2     1422 non-null object\n",
      "BsmtFinSF2       1460 non-null int64\n",
      "BsmtUnfSF        1460 non-null int64\n",
      "TotalBsmtSF      1460 non-null int64\n",
      "Heating          1460 non-null object\n",
      "HeatingQC        1460 non-null object\n",
      "CentralAir       1460 non-null object\n",
      "Electrical       1459 non-null object\n",
      "1stFlrSF         1460 non-null int64\n",
      "2ndFlrSF         1460 non-null int64\n",
      "LowQualFinSF     1460 non-null int64\n",
      "GrLivArea        1460 non-null int64\n",
      "BsmtFullBath     1460 non-null int64\n",
      "BsmtHalfBath     1460 non-null int64\n",
      "FullBath         1460 non-null int64\n",
      "HalfBath         1460 non-null int64\n",
      "BedroomAbvGr     1460 non-null int64\n",
      "KitchenAbvGr     1460 non-null int64\n",
      "KitchenQual      1460 non-null object\n",
      "TotRmsAbvGrd     1460 non-null int64\n",
      "Functional       1460 non-null object\n",
      "Fireplaces       1460 non-null int64\n",
      "FireplaceQu      770 non-null object\n",
      "GarageType       1379 non-null object\n",
      "GarageYrBlt      1379 non-null float64\n",
      "GarageFinish     1379 non-null object\n",
      "GarageCars       1460 non-null int64\n",
      "GarageArea       1460 non-null int64\n",
      "GarageQual       1379 non-null object\n",
      "GarageCond       1379 non-null object\n",
      "PavedDrive       1460 non-null object\n",
      "WoodDeckSF       1460 non-null int64\n",
      "OpenPorchSF      1460 non-null int64\n",
      "EnclosedPorch    1460 non-null int64\n",
      "3SsnPorch        1460 non-null int64\n",
      "ScreenPorch      1460 non-null int64\n",
      "PoolArea         1460 non-null int64\n",
      "PoolQC           7 non-null object\n",
      "Fence            281 non-null object\n",
      "MiscFeature      54 non-null object\n",
      "MiscVal          1460 non-null int64\n",
      "MoSold           1460 non-null int64\n",
      "YrSold           1460 non-null int64\n",
      "SaleType         1460 non-null object\n",
      "SaleCondition    1460 non-null object\n",
      "SalePrice        1460 non-null int64\n",
      "dtypes: float64(3), int64(35), object(43)\n",
      "memory usage: 924.0+ KB\n"
     ]
    }
   ],
   "source": [
    "df.info()"
   ]
  },
  {
   "cell_type": "code",
   "execution_count": 12,
   "metadata": {},
   "outputs": [],
   "source": [
    "# Fill the missing vales\n",
    "\n",
    "df['LotFrontage'] = df['LotFrontage'].fillna(df['LotFrontage'].mean())"
   ]
  },
  {
   "cell_type": "code",
   "execution_count": 13,
   "metadata": {},
   "outputs": [
    {
     "data": {
      "text/plain": [
       "Id               0\n",
       "MSSubClass       0\n",
       "MSZoning         0\n",
       "LotFrontage      0\n",
       "LotArea          0\n",
       "                ..\n",
       "MoSold           0\n",
       "YrSold           0\n",
       "SaleType         0\n",
       "SaleCondition    0\n",
       "SalePrice        0\n",
       "Length: 81, dtype: int64"
      ]
     },
     "execution_count": 13,
     "metadata": {},
     "output_type": "execute_result"
    }
   ],
   "source": [
    "df.isnull().sum()"
   ]
  },
  {
   "cell_type": "code",
   "execution_count": 14,
   "metadata": {},
   "outputs": [],
   "source": [
    "# Drooping the column named \"Alley\"\n",
    "\n",
    "df.drop(['Alley'], axis = 1, inplace = True)"
   ]
  },
  {
   "cell_type": "code",
   "execution_count": 15,
   "metadata": {},
   "outputs": [
    {
     "data": {
      "text/plain": [
       "(1460, 80)"
      ]
     },
     "execution_count": 15,
     "metadata": {},
     "output_type": "execute_result"
    }
   ],
   "source": [
    "df.shape"
   ]
  },
  {
   "cell_type": "code",
   "execution_count": 16,
   "metadata": {},
   "outputs": [
    {
     "data": {
      "text/plain": [
       "Index(['Id', 'MSSubClass', 'MSZoning', 'LotFrontage', 'LotArea', 'Street',\n",
       "       'LotShape', 'LandContour', 'Utilities', 'LotConfig', 'LandSlope',\n",
       "       'Neighborhood', 'Condition1', 'Condition2', 'BldgType', 'HouseStyle',\n",
       "       'OverallQual', 'OverallCond', 'YearBuilt', 'YearRemodAdd', 'RoofStyle',\n",
       "       'RoofMatl', 'Exterior1st', 'Exterior2nd', 'MasVnrType', 'MasVnrArea',\n",
       "       'ExterQual', 'ExterCond', 'Foundation', 'BsmtQual', 'BsmtCond',\n",
       "       'BsmtExposure', 'BsmtFinType1', 'BsmtFinSF1', 'BsmtFinType2',\n",
       "       'BsmtFinSF2', 'BsmtUnfSF', 'TotalBsmtSF', 'Heating', 'HeatingQC',\n",
       "       'CentralAir', 'Electrical', '1stFlrSF', '2ndFlrSF', 'LowQualFinSF',\n",
       "       'GrLivArea', 'BsmtFullBath', 'BsmtHalfBath', 'FullBath', 'HalfBath',\n",
       "       'BedroomAbvGr', 'KitchenAbvGr', 'KitchenQual', 'TotRmsAbvGrd',\n",
       "       'Functional', 'Fireplaces', 'FireplaceQu', 'GarageType', 'GarageYrBlt',\n",
       "       'GarageFinish', 'GarageCars', 'GarageArea', 'GarageQual', 'GarageCond',\n",
       "       'PavedDrive', 'WoodDeckSF', 'OpenPorchSF', 'EnclosedPorch', '3SsnPorch',\n",
       "       'ScreenPorch', 'PoolArea', 'PoolQC', 'Fence', 'MiscFeature', 'MiscVal',\n",
       "       'MoSold', 'YrSold', 'SaleType', 'SaleCondition', 'SalePrice'],\n",
       "      dtype='object')"
      ]
     },
     "execution_count": 16,
     "metadata": {},
     "output_type": "execute_result"
    }
   ],
   "source": [
    "df.columns"
   ]
  },
  {
   "cell_type": "code",
   "execution_count": 17,
   "metadata": {},
   "outputs": [
    {
     "data": {
      "text/plain": [
       "37"
      ]
     },
     "execution_count": 17,
     "metadata": {},
     "output_type": "execute_result"
    }
   ],
   "source": [
    "df['BsmtCond'].isnull().sum()"
   ]
  },
  {
   "cell_type": "code",
   "execution_count": 18,
   "metadata": {},
   "outputs": [
    {
     "data": {
      "text/plain": [
       "True"
      ]
     },
     "execution_count": 18,
     "metadata": {},
     "output_type": "execute_result"
    }
   ],
   "source": [
    "df['BsmtCond'].isnull().values.any()"
   ]
  },
  {
   "cell_type": "code",
   "execution_count": 19,
   "metadata": {},
   "outputs": [
    {
     "name": "stdout",
     "output_type": "stream",
     "text": [
      "<class 'pandas.core.frame.DataFrame'>\n",
      "RangeIndex: 1460 entries, 0 to 1459\n",
      "Data columns (total 80 columns):\n",
      "Id               1460 non-null int64\n",
      "MSSubClass       1460 non-null int64\n",
      "MSZoning         1460 non-null object\n",
      "LotFrontage      1460 non-null float64\n",
      "LotArea          1460 non-null int64\n",
      "Street           1460 non-null object\n",
      "LotShape         1460 non-null object\n",
      "LandContour      1460 non-null object\n",
      "Utilities        1460 non-null object\n",
      "LotConfig        1460 non-null object\n",
      "LandSlope        1460 non-null object\n",
      "Neighborhood     1460 non-null object\n",
      "Condition1       1460 non-null object\n",
      "Condition2       1460 non-null object\n",
      "BldgType         1460 non-null object\n",
      "HouseStyle       1460 non-null object\n",
      "OverallQual      1460 non-null int64\n",
      "OverallCond      1460 non-null int64\n",
      "YearBuilt        1460 non-null int64\n",
      "YearRemodAdd     1460 non-null int64\n",
      "RoofStyle        1460 non-null object\n",
      "RoofMatl         1460 non-null object\n",
      "Exterior1st      1460 non-null object\n",
      "Exterior2nd      1460 non-null object\n",
      "MasVnrType       1452 non-null object\n",
      "MasVnrArea       1452 non-null float64\n",
      "ExterQual        1460 non-null object\n",
      "ExterCond        1460 non-null object\n",
      "Foundation       1460 non-null object\n",
      "BsmtQual         1423 non-null object\n",
      "BsmtCond         1423 non-null object\n",
      "BsmtExposure     1422 non-null object\n",
      "BsmtFinType1     1423 non-null object\n",
      "BsmtFinSF1       1460 non-null int64\n",
      "BsmtFinType2     1422 non-null object\n",
      "BsmtFinSF2       1460 non-null int64\n",
      "BsmtUnfSF        1460 non-null int64\n",
      "TotalBsmtSF      1460 non-null int64\n",
      "Heating          1460 non-null object\n",
      "HeatingQC        1460 non-null object\n",
      "CentralAir       1460 non-null object\n",
      "Electrical       1459 non-null object\n",
      "1stFlrSF         1460 non-null int64\n",
      "2ndFlrSF         1460 non-null int64\n",
      "LowQualFinSF     1460 non-null int64\n",
      "GrLivArea        1460 non-null int64\n",
      "BsmtFullBath     1460 non-null int64\n",
      "BsmtHalfBath     1460 non-null int64\n",
      "FullBath         1460 non-null int64\n",
      "HalfBath         1460 non-null int64\n",
      "BedroomAbvGr     1460 non-null int64\n",
      "KitchenAbvGr     1460 non-null int64\n",
      "KitchenQual      1460 non-null object\n",
      "TotRmsAbvGrd     1460 non-null int64\n",
      "Functional       1460 non-null object\n",
      "Fireplaces       1460 non-null int64\n",
      "FireplaceQu      770 non-null object\n",
      "GarageType       1379 non-null object\n",
      "GarageYrBlt      1379 non-null float64\n",
      "GarageFinish     1379 non-null object\n",
      "GarageCars       1460 non-null int64\n",
      "GarageArea       1460 non-null int64\n",
      "GarageQual       1379 non-null object\n",
      "GarageCond       1379 non-null object\n",
      "PavedDrive       1460 non-null object\n",
      "WoodDeckSF       1460 non-null int64\n",
      "OpenPorchSF      1460 non-null int64\n",
      "EnclosedPorch    1460 non-null int64\n",
      "3SsnPorch        1460 non-null int64\n",
      "ScreenPorch      1460 non-null int64\n",
      "PoolArea         1460 non-null int64\n",
      "PoolQC           7 non-null object\n",
      "Fence            281 non-null object\n",
      "MiscFeature      54 non-null object\n",
      "MiscVal          1460 non-null int64\n",
      "MoSold           1460 non-null int64\n",
      "YrSold           1460 non-null int64\n",
      "SaleType         1460 non-null object\n",
      "SaleCondition    1460 non-null object\n",
      "SalePrice        1460 non-null int64\n",
      "dtypes: float64(3), int64(35), object(42)\n",
      "memory usage: 912.6+ KB\n"
     ]
    }
   ],
   "source": [
    "df.info()"
   ]
  },
  {
   "cell_type": "code",
   "execution_count": 20,
   "metadata": {},
   "outputs": [
    {
     "data": {
      "text/plain": [
       "TA    1311\n",
       "Gd      65\n",
       "Fa      45\n",
       "Po       2\n",
       "Name: BsmtCond, dtype: int64"
      ]
     },
     "execution_count": 20,
     "metadata": {},
     "output_type": "execute_result"
    }
   ],
   "source": [
    "df['BsmtCond'].value_counts()"
   ]
  },
  {
   "cell_type": "code",
   "execution_count": 21,
   "metadata": {},
   "outputs": [],
   "source": [
    "df['BsmtCond'] = df['BsmtCond'].fillna(df['BsmtCond'].mode()[0])"
   ]
  },
  {
   "cell_type": "code",
   "execution_count": 22,
   "metadata": {},
   "outputs": [
    {
     "data": {
      "text/plain": [
       "TA    649\n",
       "Gd    618\n",
       "Ex    121\n",
       "Fa     35\n",
       "Name: BsmtQual, dtype: int64"
      ]
     },
     "execution_count": 22,
     "metadata": {},
     "output_type": "execute_result"
    }
   ],
   "source": [
    "df['BsmtQual'].value_counts()"
   ]
  },
  {
   "cell_type": "code",
   "execution_count": 23,
   "metadata": {},
   "outputs": [],
   "source": [
    "df['BsmtQual'] = df['BsmtQual'].fillna(df['BsmtQual'].mode()[0])"
   ]
  },
  {
   "cell_type": "code",
   "execution_count": 24,
   "metadata": {},
   "outputs": [],
   "source": [
    "df['FireplaceQu'].isnull().values.any()\n",
    "\n",
    "df['FireplaceQu'].value_counts()\n",
    "\n",
    "df['FireplaceQu'] = df['FireplaceQu'].fillna(df['FireplaceQu'].mode()[0])"
   ]
  },
  {
   "cell_type": "code",
   "execution_count": 25,
   "metadata": {},
   "outputs": [],
   "source": [
    "df['GarageType'].isnull().values.any()\n",
    "\n",
    "df['GarageType'].value_counts()\n",
    "\n",
    "df['GarageType'] = df['GarageType'].fillna(df['GarageType'].mode()[0])"
   ]
  },
  {
   "cell_type": "code",
   "execution_count": 26,
   "metadata": {},
   "outputs": [
    {
     "data": {
      "text/plain": [
       "81"
      ]
     },
     "execution_count": 26,
     "metadata": {},
     "output_type": "execute_result"
    }
   ],
   "source": [
    "df['GarageYrBlt'].isnull().sum()"
   ]
  },
  {
   "cell_type": "code",
   "execution_count": 27,
   "metadata": {},
   "outputs": [
    {
     "data": {
      "text/plain": [
       "2005.0    65\n",
       "2006.0    59\n",
       "2004.0    53\n",
       "2003.0    50\n",
       "2007.0    49\n",
       "          ..\n",
       "1908.0     1\n",
       "1927.0     1\n",
       "1933.0     1\n",
       "1900.0     1\n",
       "1906.0     1\n",
       "Name: GarageYrBlt, Length: 97, dtype: int64"
      ]
     },
     "execution_count": 27,
     "metadata": {},
     "output_type": "execute_result"
    }
   ],
   "source": [
    "df['GarageYrBlt'].value_counts()"
   ]
  },
  {
   "cell_type": "code",
   "execution_count": 28,
   "metadata": {},
   "outputs": [],
   "source": [
    "# Dropping the column 'GarageYrBlt'\n",
    "\n",
    "df.drop(['GarageYrBlt'], axis = 1, inplace = True)"
   ]
  },
  {
   "cell_type": "code",
   "execution_count": 29,
   "metadata": {},
   "outputs": [],
   "source": [
    "df['GarageFinish'] = df['GarageFinish'].fillna(df['GarageFinish'].mode()[0])\n",
    "df['GarageQual'] = df['GarageQual'].fillna(df['GarageQual'].mode()[0])\n",
    "df['GarageCond'] = df['GarageCond'].fillna(df['GarageCond'].mode()[0])"
   ]
  },
  {
   "cell_type": "code",
   "execution_count": 30,
   "metadata": {},
   "outputs": [
    {
     "data": {
      "text/plain": [
       "1453"
      ]
     },
     "execution_count": 30,
     "metadata": {},
     "output_type": "execute_result"
    }
   ],
   "source": [
    "df['PoolQC'].isnull().sum()"
   ]
  },
  {
   "cell_type": "code",
   "execution_count": 31,
   "metadata": {},
   "outputs": [
    {
     "data": {
      "text/plain": [
       "1179"
      ]
     },
     "execution_count": 31,
     "metadata": {},
     "output_type": "execute_result"
    }
   ],
   "source": [
    "df['Fence'].isnull().sum()"
   ]
  },
  {
   "cell_type": "code",
   "execution_count": 32,
   "metadata": {},
   "outputs": [
    {
     "data": {
      "text/plain": [
       "1406"
      ]
     },
     "execution_count": 32,
     "metadata": {},
     "output_type": "execute_result"
    }
   ],
   "source": [
    "df['MiscFeature'].isnull().sum()"
   ]
  },
  {
   "cell_type": "code",
   "execution_count": 33,
   "metadata": {},
   "outputs": [],
   "source": [
    "df.drop(['PoolQC','Fence','MiscFeature'], axis = 1, inplace = True)"
   ]
  },
  {
   "cell_type": "code",
   "execution_count": 34,
   "metadata": {},
   "outputs": [
    {
     "data": {
      "text/plain": [
       "(1460, 76)"
      ]
     },
     "execution_count": 34,
     "metadata": {},
     "output_type": "execute_result"
    }
   ],
   "source": [
    "df.shape"
   ]
  },
  {
   "cell_type": "code",
   "execution_count": 35,
   "metadata": {},
   "outputs": [],
   "source": [
    "df['Id'].value_counts()\n",
    "# Dropping column \"Id\", since it is an unique identifier\n",
    "df.drop(['Id'],axis = 1, inplace = True)  "
   ]
  },
  {
   "cell_type": "code",
   "execution_count": 36,
   "metadata": {},
   "outputs": [
    {
     "data": {
      "text/plain": [
       "(1460, 75)"
      ]
     },
     "execution_count": 36,
     "metadata": {},
     "output_type": "execute_result"
    }
   ],
   "source": [
    "df.shape"
   ]
  },
  {
   "cell_type": "code",
   "execution_count": 37,
   "metadata": {},
   "outputs": [
    {
     "data": {
      "text/plain": [
       "MSSubClass       0\n",
       "MSZoning         0\n",
       "LotFrontage      0\n",
       "LotArea          0\n",
       "Street           0\n",
       "                ..\n",
       "MoSold           0\n",
       "YrSold           0\n",
       "SaleType         0\n",
       "SaleCondition    0\n",
       "SalePrice        0\n",
       "Length: 75, dtype: int64"
      ]
     },
     "execution_count": 37,
     "metadata": {},
     "output_type": "execute_result"
    }
   ],
   "source": [
    "df.isnull().sum()"
   ]
  },
  {
   "cell_type": "code",
   "execution_count": 38,
   "metadata": {},
   "outputs": [],
   "source": [
    "pd.set_option('display.max_rows', None)"
   ]
  },
  {
   "cell_type": "code",
   "execution_count": 39,
   "metadata": {},
   "outputs": [
    {
     "data": {
      "text/plain": [
       "MSSubClass        0\n",
       "MSZoning          0\n",
       "LotFrontage       0\n",
       "LotArea           0\n",
       "Street            0\n",
       "LotShape          0\n",
       "LandContour       0\n",
       "Utilities         0\n",
       "LotConfig         0\n",
       "LandSlope         0\n",
       "Neighborhood      0\n",
       "Condition1        0\n",
       "Condition2        0\n",
       "BldgType          0\n",
       "HouseStyle        0\n",
       "OverallQual       0\n",
       "OverallCond       0\n",
       "YearBuilt         0\n",
       "YearRemodAdd      0\n",
       "RoofStyle         0\n",
       "RoofMatl          0\n",
       "Exterior1st       0\n",
       "Exterior2nd       0\n",
       "MasVnrType        8\n",
       "MasVnrArea        8\n",
       "ExterQual         0\n",
       "ExterCond         0\n",
       "Foundation        0\n",
       "BsmtQual          0\n",
       "BsmtCond          0\n",
       "BsmtExposure     38\n",
       "BsmtFinType1     37\n",
       "BsmtFinSF1        0\n",
       "BsmtFinType2     38\n",
       "BsmtFinSF2        0\n",
       "BsmtUnfSF         0\n",
       "TotalBsmtSF       0\n",
       "Heating           0\n",
       "HeatingQC         0\n",
       "CentralAir        0\n",
       "Electrical        1\n",
       "1stFlrSF          0\n",
       "2ndFlrSF          0\n",
       "LowQualFinSF      0\n",
       "GrLivArea         0\n",
       "BsmtFullBath      0\n",
       "BsmtHalfBath      0\n",
       "FullBath          0\n",
       "HalfBath          0\n",
       "BedroomAbvGr      0\n",
       "KitchenAbvGr      0\n",
       "KitchenQual       0\n",
       "TotRmsAbvGrd      0\n",
       "Functional        0\n",
       "Fireplaces        0\n",
       "FireplaceQu       0\n",
       "GarageType        0\n",
       "GarageFinish      0\n",
       "GarageCars        0\n",
       "GarageArea        0\n",
       "GarageQual        0\n",
       "GarageCond        0\n",
       "PavedDrive        0\n",
       "WoodDeckSF        0\n",
       "OpenPorchSF       0\n",
       "EnclosedPorch     0\n",
       "3SsnPorch         0\n",
       "ScreenPorch       0\n",
       "PoolArea          0\n",
       "MiscVal           0\n",
       "MoSold            0\n",
       "YrSold            0\n",
       "SaleType          0\n",
       "SaleCondition     0\n",
       "SalePrice         0\n",
       "dtype: int64"
      ]
     },
     "execution_count": 39,
     "metadata": {},
     "output_type": "execute_result"
    }
   ],
   "source": [
    "df.isnull().sum()"
   ]
  },
  {
   "cell_type": "code",
   "execution_count": 40,
   "metadata": {},
   "outputs": [],
   "source": [
    "df['MasVnrType'] = df['MasVnrType'].fillna(df['MasVnrType'].mode()[0])\n",
    "df['MasVnrArea'] = df['MasVnrArea'].fillna(df['MasVnrArea'].mode()[0])"
   ]
  },
  {
   "cell_type": "code",
   "execution_count": 41,
   "metadata": {},
   "outputs": [
    {
     "data": {
      "text/plain": [
       "<matplotlib.axes._subplots.AxesSubplot at 0x1c225235bc8>"
      ]
     },
     "execution_count": 41,
     "metadata": {},
     "output_type": "execute_result"
    },
    {
     "data": {
      "image/png": "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\n",
      "text/plain": [
       "<Figure size 432x288 with 1 Axes>"
      ]
     },
     "metadata": {
      "needs_background": "light"
     },
     "output_type": "display_data"
    }
   ],
   "source": [
    "sns.heatmap(df.isnull(), yticklabels = False, cbar = False, cmap = 'coolwarm')"
   ]
  },
  {
   "cell_type": "code",
   "execution_count": 42,
   "metadata": {},
   "outputs": [
    {
     "data": {
      "text/plain": [
       "38"
      ]
     },
     "execution_count": 42,
     "metadata": {},
     "output_type": "execute_result"
    }
   ],
   "source": [
    "df['BsmtExposure'].isnull().sum()"
   ]
  },
  {
   "cell_type": "code",
   "execution_count": 43,
   "metadata": {},
   "outputs": [],
   "source": [
    "# Again handling the Null values\n",
    "\n",
    "df['BsmtExposure'] = df['BsmtExposure'].fillna(df['BsmtExposure'].mode()[0])"
   ]
  },
  {
   "cell_type": "code",
   "execution_count": 44,
   "metadata": {},
   "outputs": [
    {
     "data": {
      "text/plain": [
       "<matplotlib.axes._subplots.AxesSubplot at 0x1c2257d8288>"
      ]
     },
     "execution_count": 44,
     "metadata": {},
     "output_type": "execute_result"
    },
    {
     "data": {
      "image/png": "iVBORw0KGgoAAAANSUhEUgAAAV8AAAE/CAYAAADhQcDbAAAABHNCSVQICAgIfAhkiAAAAAlwSFlzAAALEgAACxIB0t1+/AAAADh0RVh0U29mdHdhcmUAbWF0cGxvdGxpYiB2ZXJzaW9uMy4xLjEsIGh0dHA6Ly9tYXRwbG90bGliLm9yZy8QZhcZAAAgAElEQVR4nO2dedxtY9nHv+c4RzlpEiXeMqWrEoVMlToUCmVIVIYMSaIiSiJOhoqMIZGZzENJMmeKUCRTV5JUvKI0mzo87x/Xvc6z9n7W/Jxz1uH9fT+f8zl772etvdbee63ffd/XOGFkZAQhhBCzl4l9n4AQQvx/ROIrhBA9IPEVQogekPgKIUQPSHyFEKIHJjXecO6FFRYhhBAtmf70gxOKXtfMVwghekDiK4QQPSDxFUKIHpD4CiFED0h8hRCiByS+QgjRAxJfIYToAYmvEEL0gMRXCCF6QOIrhBA9IPEVQogekPgKIUQPSHyFEKIHJL5CCNEDEl8hhOgBia8QQvSAxFcIIXpA4iuEED0g8RVCiB6Q+AohRA9IfIUQogckvkII0QMSXyGE6AGJrxBC9IDEVwghekDiK4QQPSDxFUKIHpD4CiFED0h8hRCiByS+QgjRAxJfIYToAYmvEEL0gMRXCCF6QOIrhBA9IPEVQogekPgKIUQPSHyFEKIHJL5CCNEDEl8hhOgBia8QQvSAxFcIIXpA4iuEED0g8RVCiB6Q+AohRA9IfIUQogckvkII0QMSXyGE6AGJrxBC9IDEVwghekDiK4QQPSDxFUKIHpD4CiFED0h8hRCiByS+QgjRAxJfIYToAYmvEEL0gMRXCCF6QOIrhBA9IPEVQogekPgKIUQPSHyFEKIHJL5CCNEDEl8hhOgBia8QQvSAxFcIIXpA4iuEED0g8RVCiB6Q+AohRA9IfIUQogckvkII0QMSXyGE6AGJrxBC9IDEVwghekDiK4QQPSDxFUKIHpD4CiFED0h8hRCiByS+QgjRAxJfIYToAYmvEEL0gMRXCCF6QOIrhBA9IPEVQogekPgKIUQPSHyFEKIHJL5CCNEDEl8hhOgBia8QQvSAxFcIIXpA4iuEED0g8RVCiB6Q+AohRA9IfIUQogckvkII0QMSXyGE6AGJrxBC9IDEVwghekDiK4QQPSDxFUKIHpD4CiFED0h8hRCiByS+QgjRAxJfIYToAYmvEEL0gMRXCCF6QOIrhBA9IPEVQogekPgKIUQPTOr7BMTziyceum7g+TwLrdppGyGe70wYGRlptOGkuRdutqEQQogZTH/6wQlFr8vsIIQQPSDxFUKIHpD4CiFED0h8hRCiByS+QgjRAxJfIYToAYmvEEL0gMRXCCF6QOIrhBA9IPEVQogekPgKIUQPSHyFEKIHJL5CCNEDEl8hhOgBia8QQvSAxFcIIXpA4iuEED0g8RVCiB6Q+AohRA9IfIUQogckvkII0QMSXyGE6AGJrxBC9IDEVwghekDiK4QQPSDxFUKIHpD4CiFED0h8hRCiByS+QgjRAxJfIYToAYmvEEL0gMRXCCF6QOIrhBA9IPEVQogekPgKIUQPSHyFEKIHJL5CCNEDEl8hhOgBia8QQvSAxFcIIXpA4iuEED0g8RVCiB6Q+AohRA9IfIUQogcm9X0C4vnFEw9dN/B8noVW7bSNEM93JoyMjDTacNLcCzfbUAghxAymP/3ghKLXZXYQQogekPgKIUQPSHyFEKIHJL5CCNEDEl8hhOgBia8QQvSAxFcIIXpA4iuEED0g8RVCiB6Q+AohRA9IfIUQogckvkII0QMSXyGE6AGJrxBC9IDEVwghekDiK4QQPSDxFUKIHpD4CiFED0h8hRCiByS+QgjRAxJfIYToAYmvEEL0gMRXCCF6QOIrhBA9IPEVQogekPgKIUQPSHyFEKIHJL5CCNEDEl8hhOgBia8QQvSAxFcIIXpA4iuEED0g8RVCiB6Q+AohRA9IfIUQogckvkII0QMSXyGE6AGJrxBC9IDEVwghemBS3ycgnl888dB1Y16bZ6FVW28jxPOdCSMjI402nDT3ws02FEIIMYPpTz84oeh1mR2EEKIHJL5CCNEDEl8hhOgBia8QQvSAxFcIIXpA4iuEED0g8RVCiB6Q+AohRA9IfIUQogckvkII0QMSXyGE6AGJrxBC9IDEVwghekDiK4QQPSDxFUKIHpD4CiFED0h8hRCiByS+QgjRAxJfIYToAYmvEEL0QOMGmkIIIWYemvkKIUQPSHyFEKIHJL5CCNEDEl8hhOgBia8QQvSAxFcIIXpA4iuEED0g8RVCiB6Q+AohRA9IfIUQogckvkII0QOTmm5oZnO7+9Nm9jrAgB+7+7NtDmZm87j7EzXbnOjuW7V539y+L3f3vzXYbgFgQeCu/Gcws+Xc/daSffaqek9336ft+dZhZh9395OHXtvB3Y+aBceaBKwFzAdMyF5391Nm4jHeCrwGuNbd/5F7fV13v6hg+9Lfo+Hx1nH3HzXc9nh33yY9XtLd7+163FmFmb2r6u/ufm3N/q3uYTObDLwXmJ8G14SZbVFzfmP2M7P13P0HVftVYWYvYuw1+4eu79fgeI00pgmNxDcJzxvNbDfgWuBuYE3gcxX7fADYH3gR8cXMBUwBFqg53JvNbF53/3eTc0vHeitwJjDFzFYBrgE2LrpxzWwT4BDgMWBuM/uQu9+Z/nwcsFzJYSaUvF51XvcCpZWL3P31JfvtBLwE+JSZLZL702TgY0Cp+JrZksCOwLyMfu+LuXvljQucDiwC3JM75xGgVHzTuR0HLAq8C/gesLW7/75g288BnwR+B3zXzD7m7lelP+8DjBFfcr+HmR3g7rvVfIZhDgQaiS+wbO7xWZRfB4WY2TrA3sAriO99AjDi7otX7LM4sB1jxW3rkl2+WnEKI8DqFcdqfQ8D5wCvpvk1sVrN+RXttzfwg3SOZ7j7RyveYwAz2xv4AvDo0HEKv3Mzu5/i+7HJb9VYY5rSdOa7HvBO4oc6zd2/aGY/r9nnUGBbYBdChNcnhLiOZ4E/mJkDM2bJ7l56YQHfAjYATnf3B81se+A7wIoF234ZeKu7P2pmGwOXmtka7n43FQLr7oUXvplNABYr2e196f89gQeAk4DpwKbAays+z73A2xi9iTOeBLas2A/gDEJwVk3H2wC4s2qHxDLu/oYG2+U5Bvgm8A3g4XTsUwghHuYTwAru/riZvR0418w2cffrKP/e86+vAbQV3/vM7ATgJgavpSIRmFDyuCmHE/fHXVQMuEOcB1wBXNdkH3evErc6utzDb2hzTVStWM1snpI/5b9ra3qsxJbAIu7+14bbT235/nnaaEwjmorvRHd/wszWBfY0s4nUC+nf3f0nZvYO4KXuvpuZ3d3gWF9seE55prj7PWbx27n75WZ2UNnG7v5o+v9sMxsBLk7nWXsDmNkngYMY/Pz3A68rOM59aZ+lhy7MA6ou/LRU/pGZne3u96T3eAnwGne/q+YU53b3vdOS8Vbgu0DdTQZwj5m92t3/t8G2GfO7+2VpVjpCzGh3KNvY3R9P/99gZh8BzjazNWgmVl0E8a9pv5Vzr5XNwEZKHjflH01NHDkmuPsX2h7IzFYGdmdwdbOIuy9asVuXe/g+M3tt22V8WvXuN3R+8wCvLNh8PDVtHwL+UbtVwt0fSOf3AmDtofNbDKgyLbbSmCY0Fd8rzexO4HFiyXINcGHNPk+Y2euJJctUM7sKmLvBsbr8GI+Z2Vuyfc1sU8KsUMSvzexA4Fvu/id3P8fMFiQ+1wsbHGt34C3ExbUH8SO+o2afiWb2rswmZ2ZrEjP8Ot6elolfAG4D/mVmp7r71yr2eTxdXL8Blnf367MLpoYpgKff+cnsxZoVxxNm9j+Mfu/vBJ4q2fY6MzsT2Mfd73b3a5NQX0Fc/EWMSxBb+g5enbPr5x9n71Vo08/ZYe8ys28B3ydWN9l+VXbYG8xsA+AHLf0nJxArji2JGdmGxEBbReN72Mx+QnzfrwTuMLPbic+ULc+rrglot+qd28xeQzj/s8eV9tvcb/N34EYz+zGD33md/+UM4OXEhOk6wlxyfc0+bTSmEY3E1913TRfWg+7+rJnt6O631+y2JyFQmwNfImxbxzc4XH55PxlYhviCqi7i7YGTgaXM7O/Esn2zkm23TudjwJ8A3P0IM/sjMK3B+T3i7veb2R3A0u7+bTP7dM0+nwROMbOXExfZw4TpoY5PA+sCHyXsYp8DfgZUie9pwA/T+99oZu8DHmxwrKr3LGNnwla7hJn9knB8fLhk2x2BrYjZBgDufn763vco2eetZvZ0ejwp9zgTgcLB3Mwucvd1y2x8Jba97zB60+cf15G/Xl8DLJ17XmiHNbNn098mAJ8CRtIAmX2ussEo4yl3P9HMFgX+BmwB3FG1Q+4e/lO6hz/j7r8s2XxazfHraLPqnZcYCLLvO3+fl9lvs21vLnitCcsASxKmohMIrTqrZp82GtOIRp0szGxFwl50JHGzLQts7u6XND1QVy+hmS0GHOru6zfYdmFiefXHtsdpcT5XAfsSy6j1iaXKT919iQb7voq4uR5peKxfuPvyZnYJMVO/2MzucvelavZ7sbv/K81KVwAuc/f/NDje+4H3EIPyT+q80MnJdBnwemL2+mt3f7pqn7TfosBSwCXAa939/pLtKkXI3Z8p2e/V7v6/NuiszJjL3X9Xd45tMbOlhk1CZrayu/+s5fu8wN3LVg/ZNjcC6xA+hUXd/Wtm5u5eusRJA/+BwBLARoTpbJeqe9LM5ibsvr8ys48R9/0B7v6XmvO7DtiGGIhWIO6Ru919jGluPFhE6Kzt7hea2fzAB4ETkwmsar8b3P3tadL0b3c/xcxud/e3NDjmTNOYpmaHbxFf4EbEsmU54Hzi5ik7ybwnfFXgdDMr9IRXkWaZlUb/tBw4BViYWOLfA3zc3X9bsc/HgYOJ5Qc0n3V8lriwdkn/OyUzBTO7nIKZV85utGbNse4ys4uI0f8KMzuLwdG+6JhzA59J39mOxA1Qa4s0sy8CHyIiFiYAe5jZm919/4rdDkx2zjo7dP44mxAzjSnAKsTsfFd3P214W3d/xszmA6a7+z/TknRD4Laq5Xxmt85sfOm4CxFOv09Q4Oy0cAjtC5zt7jeb2SHE0vk24KPuXrh6SLO7uYDjzGwbRmdgk4gZdGFES9r3RndfJfd8ImGfX7psn8QhxExtQ+DmtAT+Rc0+3yUGyhWBfwP/S6yS1qnY5zTgfjN7ITHDP4Vw4q5bc6yiVe8JZRub2dLAo+7+cJrobQ7c6u4n1hznWOK7z8wnqxGf71M1+91pZkcARwPfS9dG5cy5i8bU0cbhdpmZfQ84z93/mEadKjJP+AHAn6n2hM/AzE5kVLAmAG+k3lt/ArCHp1jRZEc7kRD9MvYCpvpomFkj0vY7p6cfqtn8G+n/rYGniWXLdMKM0MT+vTXwduBOj/jM04Af1+xzFBF6s1w61uuI76duibQZsJKnOGwz+y5xQ1eJb5togozdiM90rbs/YmbLEnbfMeJr4Yz7HrCRmf06nc9VwKZmdoy715qxzGwtYsm4NmHXKzMRHU58X783s7UJs81y6d+RhKe7iDWAdxMhWXlb43TiHig6p6tInvdkgsjvU+dLIfkpznX3ETN7GyHwZSaEjMXc/Vgz2z6tTvZItty6fTY2swOA49z9ADO7pcH5XUOYEgBWqFr1mtnmxKC3kZlNAa4kfosPmtn/uPu+FYdawd2XTsf8C7C5mf2q7vyI6+Ht7n63Rbjae4gQziq6aEwlTcX3cTPbJZ3kjmb2WeBfNfu08oTnuDr3eISINbyiZp8JngvSd/cLrCYpAniorfBCeaxgkR3R3a9M+3zd3fMhKdc3vIink7OBufsPG5zi8u6+nJm93yOs6+PU2AMTE30wAeZJck6MEtpEE2Q8k0wiQMxShwQozz7Aqu7uZvYFIinmI2b2UuJ7KRRfM3slsSrZFvgvcQ0tX+MoWiW7kc1sPWIGfC9wb7pBC3H3aWmfzd391Ir3z++zetrncHevirMtJJug2FhHall8MMD09L1lDqMlqXf6TkrL+Q2ADS0c02UhY/nzyxx2+dfKnLc7EyL6aPqef+Lue6YV3G2EMJcx0XIROul3r0oaOZdYjV/qEeKIu19IgwGPbhpTSVPx3ZS4mDd0978lu0ddMHQbT/gM3P1kM3szMTOYBPyqgR3xcjPbk1haTQc+QoROvTa9Z1GozC/Sj3EZg979uoyuqbnHk4kL8wU1+0wxs9dlSxQzW6pqHxtfJtNIunCzi39+mkUKXGlm5xHLSoCPE7PMqvPokol4l5ntCEy2CFz/NOWztinu7unx6qSbxN3/YdX24D8CFwAfcvfbAJLNsoq8/XgqgyGPTVYpPzOzw2mX3LJbmkEN71N3U1+dezyZsHX+umafvdN+rzWz7xMmnyqxhli53gRc6O53mtlvgK/U7AODZrjJRIxxmW15oqfQT8JscCZAWunVHWd/4DYzyyIVVqI6aeRCYFfgGDM7lbAP31d3kEQXjamkabTDg2b2Q2DeJAyXEKmopXYc2nnCZ5CWIdOIkJ2JwPlmtp+7Vx1r4/T/NkOvX0O5x/SlxOx9ldxrdbO2ATti4psWMbv7Vez2BSLU6vfEZ1qY6miHvdJ53cRYW1RlJhNwGLFSWNDMDiMGh6rMqIydCFvZFukcr6Jk2ZzRZhWQYwfCJvgEMXP9CWE/L2KCRRLLPITD9wvpuFOonoHtSoRhnZfs5GdWfY7EX5O9cV7i97kiHWsqKSqmhi7JLafTPuQJH5tyfjzw05p9LknX6UqEyG/n7n+u2ef0dI4Zbyxzcg7td83QS1eY2U0Ux9Fmk4V5yQ0IZvYKykMQM+4kzEKrECucz3hFnHqaWJ2SJo+bAd83s78QOnaOuz9Zti/dNKaSpunF3yVmA/MRcbtvJX7sKkF8FeHpbOUJJ27EFT1lrZjZ/sSIXXosdy/LMCvF3beySEQw4nu4My3zKxmalU4gvPaVSzF3/7FF1EYWJ/hLIiypjPcTonRYWha14ceEbXQ14nv/gLuX2sHMbEF3fzidz48YdM4tBFSN6FNzjxutAtz9P2Z2KOFY+i9wnbuXmbB+QDh25wLuSLOvNxODyXkVxzgCOCI5crYGLgdeZma7Aie4e1F85k6EE+tVwKfTee5JOFirnFIZXZJbuoQ8FfFGwuZcipmtBuzn7u+wmFLeaGabufsNBduWhuol80Gl0GSzwUR2j7yiZPPjiPBJgIvd/XdmtjoR+nhc1XGAs9z9jVRcC0Uk5+kBRLLTssTq63BC38pYJd0nM42mZof3EiJ6BBH5MIXwuFbR2hOemMtz6YLu/pcKmyAAFoVyjmQ0TOoqYPuqkd3Mlid+tL8SM71XmdkG7n5TzfnlZ5EjwF+IJXol7v5kmnmsR8yS30FJ4Lm7/9fMtiZG2bbie126IJtkE0Jc4OsyOoJnTKBmRO+yCjCzzYgwp+sJUT3azLZ194sL3v8ryVywIOHcgAivuodYRlfi7ncAOyd78QeJOOO9iLoZRdu+ycze4qMx7GcCR3iuCFAFXZJbHklOs18T6d2npFlgJTYYJwzhYN29ZreDiVUNyYa+NnAqMUEaZtv0/9S6cykhP/MdSef3maIN3f2o5P9YkFFn8sLAd9z9pJrj3J3srsMO38oCQxDhmES0yKbpeAfW7HKtRa2WEwkzTJOJZCVNxfehJAj3EBfJmcl4X0UXTzjA7Wm5nDlTtgHqvLLHADcQF81EIqnheKpDYr4FbJKJrUXK5hHU5Gp7QX59mu2UkmYC2xKfZX5i1N285ji/MbNvVm1Twu3JdHMzg9974QzW3bPvaPnhGaFFPG4pXVYBxOxu+TT7yEISfwiMEd90fqenGdrf0vOD0n6fIkK5akkrmvMJE1ZRimueM4mZJN4ujKhLckvrkKd0Xl1Kwb7Qcw5md/912XWbW7o/SEGlO+pNc61Woh6hfSu6+3/T81PNbB4zO9jdy0xSpPNajcGCPqVmuTSwrUP8RqsSv9dX3b3SZJPO6fXpet8CONDMLgZOcvcmqfuFNBXfB81sd8IOdmAa0eucTF084RAiNY1YhmW2x+1r9lnc3TfMPT8wCVAV8+Znue7+M4t4xlIsYjr3IuxmE4nl/T7A+8zsmuHZm0WO+3bEd3AhIb5Hu3sTpwWEHfCNDbfNWCn9y1NV6SlL57zYIskiH6d6MVAVY91lFfAvIsYUiNmzjWauDZ/bZ4AXAzsMLWUnpeMUim9uZgijnyebKY5QbUvsNJty9yPN7GSPSI6ppOSWqn0YDHnai1hhVjoGLZIlPsXoNfhzQrzXAR5w95+U7Ppri5CxU4nv4KPELL2KLpXuliCclfnz+ybwAeB2d7+0ZNfTLEqo3piuw29T7/BdLR3zxcSK+e81n+dh4FeETX4LT7VGmuKREn8L4bvanwiHexTYwVsm00Bz8d0GWMfdbzGz84kfrlIQhz3hZjYv9bF0EGXaBqpXWYSoVdWwHTGz13jKOkk36n9rjvOY5WqJmtn6xIBRSLqhTiO+9J2JGd4qhKPl3uFzTvwAOJuwYf8uvU+bHP5Ws9j0tzGzDosaG2V8lZg5LMRgaud0iss85o81Y8aRHGMvdvd/Vu0D3EII/YnpGBsD/2upFuzQyugBQsQmMjijns5Yx0f+vMbTJKDVbApm3PxPJuHdhDAp3eo1WYXJeXVdmv1PJrIYS73vabvriVXeZcR3sjLhQ/gz1TGn2xDmoDOIe+NaRs0LZbSqdGeRiHAZIW5fzp3fdUQp0UMrdl+XWJncR0wUtvAUDlZxvMWJlcoShHP2AUI/ymoxr+Cjxa6WJSIlXkqsxCqF3szeQ8x630tMSjbxKBC1NGEu+Z+q/YuoFN+h2cYN6fkP0r9GpB9kO2Kq/xsiK6Vou7IatpPSvlXi+xViqZdFB6xEmB6q2A44NZlGAO6j2hQwDVjXB/Phf2FmH6U8lGs5ws74M4swnTOo9+DmaTWLzWORBLMhMUvKvPhj8FQ71sx2c/cDWpwbFhWyViViMW8BFrDIVjupYrd5iJlvVm7z8fRvNYZmVcnZeKGZneXdYrIXILzaw6FcpUW/i8xKNcfYmHCu/cvMjiMmGBcB2yf78c4F+yxN2NofJnwV5xLX36JmtouXZ3Z9E/iSu39v6P0uAZ6oEvtkttkht09WCrXKnt220t03gE3dPR+Xf14Sumcys8LQuWca8yRxrZ5NODkfsPqKascQvqVz03tlv8XUoo1zwvsN4t5ck/Bf7WVR+GpaxbH2JkyZ2+dnzO5+h3WsblY38x0OGclTtZR9IREH9ynCo/sMIVxV71dWw/YpamrYuvtF6QdekZglfcpr6ie4+2+AlSwq4U/0co97xkuHhBeLAPQLKFlqp+0/Z+FlXy99jleb2Q+Ab1cswbL9W0dxWERVbEeI/ssIr/HGlTsFJ5rZzrQQKuKC/ATxW99M3NzXMBorXMTFRBWvNg6LJS3CqV6ef9FLitHnOIuI+V2ZCF1clxgkxmAFiQFDxyqb+e5FOKNfQiSzLOLuf7ZwvpWl/B5L/C4vI8xRq6fl9iKEcJeJ7xvcfeC3TAPM49SYp8xsO0K8807e3xOzxjLaVrp79ZDwZud3JzFjLCJz9Gb3/FPpPKF+ojF/JrzpvM62iFCpY10i8ihL8nkvkdAxbXhDM9vd3b/uFfHa7n5Yg2OOoVJ8O978hxM3+82EA+tCIlGiSngLa9g2OFZZMPqyFiExY0rLmdmx7v7J4ZvNRjOuyi6secxsLs/FOXpEYhxGzSw7jfjnEgXEFyTE+hDCQVWKtYjisAjW3w5YnhgQNgO+6yVF4As4k4ZCNfTZbjezaUSB7n+XOXFyrE1ERfyIcFjUHoOIXd6KMEO0YSF3Xz3NTM4nPNply8tpLd87Y3r6Pf5sZvdmv427P1VmyyaSRzJz1x7ufmPa5wEzq0pEGvPdeiQobGjRfKCKL9G+FGrbSndjnK3p/HZKK78x5DXGzCZ7OPYnAy/w+m42T1mu1ZRFBFMTO+6kdK7Z++eTkob5MPD1Bu/Zmlqbr5ltRcTA3pKef42wcZaNzh8mnBXnAxclO1ibWqyvNbNTGNuXqaq0XBuyxIFpLff7EXCImX0+E2CLLKuDKPHUW3RsKOK69K+ONlEc5xFLtlV8NJOujX25jVBl/NnCW78CsJmZHUx1XHAWXz2FMIl81aLS2xnAKRWrlfuItNO2NX2zrCoH3uLuN1l5+Neb3P3olu8Pg+msdX6GjHyiwrDAVNmr77Lo/jEQC2xRmL4upLNxKdScoLX9vq9PZqeBZXha+Y2JJx7a5sPEKmJpovDR1Rala6tMnDsRZo3HCC2YD9ikwXkeQ5gMs3T99xOTnNlKnc33M8QMKr/0vBQ4yMxeWHKxvoYYVbcCjjSzK4EXWWre1+CcjgA+TyxVKn/8olmdRWbMY2U3qrtnS8GN3H0g9tDMTqbc1PIVwtZ9n5ndls5tecITXFbuMrOhvpxY3v2MuPFWJryuZeKc0SaKYxniO7/eIpPuDFo0SKWdUGV8lEisOMwjKeF3NBjUPGpOPEAI9ZLp3K+0KJZTdBMcTGRJXcNg0ey6mdlVZnYOkfF2mZktR85xOcS2RNQAFpEr7677HIlFkt9gQu4x6XlZq6hXWDgYJ+QeZ/tUBfpnmZIfJFaWI4TT9x3UFKwC/mORaPErYH0Lr31ZWOD2xPdRtGqqcj5+kRDNDYbObwrV/d0g7q/3Qthm0yz2Mir8Sx4RSq8nzD4T46V6jXH3Qy3KXr6bGDA3HTYp5nirmRVl9TWtglhK3c25DfAuz3mw3f0ai1CQK0kXa540K/wh8MNkE92MMOw/ZNGZuK5tyl+8oJNtEWlZfjQxal1LLO3XAh626Ig7xnyRnCKLA2+zqLGQMYmwwRWSjOxrWISbrUh8+Ye4e2k6qLuvmo55EVFnwNPzxal2IGY0juJIDqldLDpfrEvYl1+VlvdHeUESwxBthCrj34SN+AALB99PgEoPv5ntRzil7ifCCXfySEB5SXqtSHx3J7zlkylYeldwKGGrf8DCMfpuBiuP5cmvosYkYVTw+dzjq4f+Nvw84ypGxSj/GOI7LCTNXImHj3MAACAASURBVN9C+FJWJ875ZmBHr+9j1rgUKsmM1tb56O5/TaL5YUbvkaOIIkV1ojh33pzmUfGucGVrEQ99EGG2uwHY3evDzPL7zwe8zN0PNrMvExXevuTFkSa3u/uyBa+PmzrxfdYLQoe8QdZZth1hrzss/SjbNTin6yxqqV7CoJG/KM7yCCKO8OfED74ckWa5FJFEsUbBPvsRNYYPZ3Bkn07MYguxwYSCbPY8MXu95PwyFsuEN237Oysu9D1MlyiOEXf/PpG3vgCxavk6JaaR3DntYWZLNBSqjAOJmWs289uKGNiqips8C7zHhwqoe9TrfV/JPi+ocfyVkWX7kZbRVa12urYsKhXLChZz96lmtqe7V9UEGUMS2aoyn2X7tSmF+gtGu0Z/1N3PaHGcp4mEkZ+SK5hPDKxVXG9mZxAlREcI88GNJdueSDg3v0fUGD+UuPaacgZRKGeE+C4OI6JPWg0246VOfKeb2SuHbXHJTlc53bahQtGEN3GVsu1zZBlm+dGmbKnzJnf/SDre+4kR9p+EYC1U8v5PuvvVFgkQw8xLeV+mKsdVXbGbX6bl6FmESG1GjQ0MukVxEE6y5dL+jxJL9oPLNs4tebPnmRPmr8QysCopZk1gWU/9x9Isu7B8pZmd5+4f8oqKXRXOt8ssMtouIeoiZ9s/VHFu0C5O+sVmtirxPc+bHud9DmWD67C3Pk+Zt36xtALY2qKA+gBe04PMWjQCsPJ26dmx6nwpXyDEqjE2WjB/HsK0dqOVFMzPsQORgrwdo3HI3y7ZdmF3Xysd6zLqaxkP83J3Pyj5K072yKgrmzCc0/K9G1MnvkcSAfFZA8cniXCwg+lWKLo2PtjbZa3kL6rVibCnjCkl++RrGRS9X2FoS9sl2BDbELPBnYiZ35XErL0QM/ukR+HrvRn8jKVRHDkeTsJxs9e0o0lkn2sJorrWxcRv9T7CiVMlvpMIM8BTuedlVa9aR87kyAaIfK+3Ecptqhlt4qQfZHSmn3+c7VM4uHqHiCDCR/ABxoZVNqVNI4CpHd5/uMZHWxoXzM/wiA45l1h9Xkp06i4zVeQH4P9aeVRJGRPTSnx94N0WpU0LtTDvV7CoM7IUsfLYyOtLJVRSF2p2ikXM7kmMVuG6DzjI3QvF18dfKLpN1soDaZSdkv5dnd5jM0q8v55qGbS9aax7HGhWVOcHwD+JFcM1XhBwnmNCyeMmrEAaWHIOs1LHgKdMxPT5lkmmoiyN9fs1x/oe8JO0XIRwwJ1esm02syz8PFVmG3evqgBXReN6Fe4+tcsBcg62QjwlsQy9dhuRXXWLu9d1JimicSMAH22XPpmYXa5ODK4X06yhbduIB2hXMJ90fl1my13PcTcilvjgZAL8GYO2+6Lz+waRxbY84UjfyiKJpqr2RCW13nB3PxY41iKK4Flv3gRzZzPbnsEY1SO9vkV2m6yVHdL2CxIey6eTvfiDRPjIGLrcLIlpNeddShox9ydinicCu5rZNC/JBMsNbIt6y4Ll7r5Ax9NciEGTy3+oKVPo0bjxVuI3ngDs7xGvXcSChOmmbHlelb77NsKj/21i9bQskX56ecn2retVjOO6qIxfLzm/GQN5WlUOH6vKhAXdGgEcRwjbd4lrcAvgzcRqbJgl0wp2+HHT82tTMD+jzWx5KYvImoyF0/PM/FKZAerRYebK3POVKzbPWIsw592a/BNrEJEjs058ASzyn78MTDWz/xJfyte8ujDFAYx1xixBtTMGWmStpCiAtYde3hfYtULks5tlXaJoy2nETGATKlItPZckki6MgUwwqm/CLxL1HR5N++9DOGpOqtgH4M1mNq/XB5vPwMxeRqRjD8dJ1znPfkQ4Ic5P+21Ms9qyL0z//ktuOVjAbxvctGUcQZgBNiLMGm9P51YovnSrV9H1ujgZxqTi1zGtxbZFdGkEsJLn6jRYxLiWzZ7rGmTWkS+YfwIx8aoTqTaz5brMxkLM7FaPFlv5wkszKFsdJrJzyfZ7AfVtmCppGgd6PBHqsyUxam5FpEhWNWVs7IwZonHWig022xz+W9mSL7tZPk0kJGTndzajRZ1LsW6F5efy0VYpePSravLDPQv8wSJ7Ke8wqhKxcwixqI2TzuPunzezDxGfbYQwLVXWErZIqliZMBNNBPY1sxW8Pv62LXN5FKQ/jeg4cL9VZNJ5h3oV470uGHS8TSZm+rdRUC93nAN53lRU2piygPst18qKKBpfWPJy6PwWJRe14ENRKiX7/4cID6yrMZyn8WzZB7tSL8XYkpdlmZCHJwdzq9Vk4mxiwJ/Pog7N5pSb2BrRVHxf5+4b5Z7vZPVdQts4Y/K0yVq5Ov3faraSeGl677+k56+ipPjMEF0Ky2fFN/I1ipsMRF+s32QMC7p7UYhdE34NPEK6kC2KjVSF0K0LLOWpA4iZHUMITpH4FlV9a8oTyRu9BvBZiyp3TVYDx6Zt26wCOl0Xwz4Ei5ZElQ1jOw7kWbGqs4jegCsTs/uNswlLCZOJ6I9riXtkVSL2/qp0/mMG9Jwddgoxy25khzWzPxKrjsxZ/rL0+HfAtl6c0NB6tmxmRxGOy98xWPKybHJyInF9X8HoKi27LkaI7uKFeHRuXosQ9tcCe3vDfIQymoqvm9nbPbUcST9+Wdm2jDbOmNEDtchaGedsZX/gVxbxiBOJGdxn686PboXltyXMIafTvEZxltDyDiLl8gRg5RoxhHDkLOMVrYOKyF3I+UDzuhC6h4kbKxOqybnHA7j7Zek4iwA7MlYQy2yqECusbQkP82PJKVvVAy/jbNqvArpeFwN4FAivFFG6DeSk7TcATnf3h5Jv5TtUNwIY7gLcpBJX66iFxDXAuR7x5lkY6MbEZzyKgpoSHhmSBxOtjioTdXKsCZgPdt2uYjliYrYG0aDhLOCKKj+UDcb3P0EkkM34W4P7sZS69OIsRnAeYCOLdifPEBWUKsV3yBkzkbioK3th2WAdibvM7OtEGcqyOhIZrWcrHrF9VxAX1whRsKYuhhY6FJZPF1OlN7WINNtbn2hzcg7RdfV4H8qdH+LNhAD/mXDGNHJC0P5ChphF/MoikiMLT/tLJjolgno2o7UtGglisu3vZWb/Y5Fae4Q36xbbehXQ9bqwwSJPE4ilemWDSroN5BCFee7J2Ucvt5qyhh0H8tZRC4k3u/sMk2QyGe3n7reZ2UBKs0Wc8zRiMjJfeu1PhHO+rpNL5mRrRJpx/xLY3cKJuwnwNYvWV2e6+9UFu40nvr+Supnv1K5vDODulxC2IgDSLLismEdRHYkfAwdbeR2JjNazleSY2pDRGdibrT6GFjoUlk+2rL0YTV/OBLGuX9eWRJzqTR6pmysQCQNVN9oGNe9ZRqsLOXERgw6sJi1VJrv7rk3e3MzeRHjnHyZmTN8nyiC+xsw+V+Pdhw6rgHFcF/nvboQwidV1Tc4P5N9sMpAnHkurzyxiYlPKk4NI23QZyLtELQD83aKE5WnE/bhpOuc3MLZw0J6ESWNtRlcobwH2Sff98Iw9z2NE55EbGIz6qFpFZdv8HPi5RfjjNxit+zy83SzLequL881iBMtSO9sGGVfd3EV1JK61ijoSue26zFY6OaaI5dRa6bhHUJEskWNXYkBoWxLxGY/wuez5k5TYzc3sF4RQneHNGj4O0+VCfsRzcaoWufi71NzQ11tkF15aZk7KcRyR0PMyIhrjve7+U4uaxT+g/vrrsgpodV0kB+Mt3rx0Z56tGR3Iz2W0BnYd2xP2yaXM7O/EKrTK+Q3dBvIuUQsQYns4kX7+DBGVsgURrfKloW0/QsRj51dcN1mEmF7LWHNJnoHJXRPSNfouohzB+4nB5Ahy5oSS/VYmHIh55+gi7r5om+PnaWrzzav/ZMJYfy3txbfqYu5cR6LjbKWrY2qK5YrdNOQe4E+eqwXckGvScvJFFm2OPkl5mcediQt8WhqITvCa1ihDtL6QgW8kId2FCEA/mTD9VN3QGxE23yZJIC9y9/PStl/y1OgwRTs0yWrqsgpoe10cw2gdhLqGj6TtBkKdzOx0RicmH6Amdd+jAMw7LRoBzFV03xTQeCDPHadL1AIezVHzDnrMbJ40WRnm6SJTl7v/w4qrieW3OdlSp400g12GCmelmR1NmMZuI8xfX/TmfdxOIBIztiRs1xtSXSuklkbi62P7sc1HSQyolWeCTaC6s23nOhJ0m8V2ckwR3Yd/b2aPEDOCJrOpwwlP840MlkSsK5LzBcLRdDshrBdTsgJI9rtrLToorA98Pl1spxFFy+sGiy4FYt5GdLO4k7iWdnb386t2cPeymhtF5G++4U4jtX3aPIoEtU0JbXtd5FdzjZaonusxZ2a3ecuqWWnWuitxLU6w+kYAUDyQX1mxfdeoBdKAvB+Ds8QpQFECUOdY2XR9z50cdacTSSerUL4K2I6oWbJs+ve13GBUVuci4yl3P9Ei9O5vxP3YJGKplDb1XvP8m6gMVsS0ju/Zuo5Eji6z2K6OqbLKW1V8nRgg2poddnP3r5P7/BbF7L9ctoNHPYezgLMs2qTvQ0Qw1NmXG8ep5lic8Fw7kX7+LjO7pGg2YaP1KgoL65SsUuazqLA2MT3OGrBOYKilUBHWLSW063WRnVdbuqTvnkLcL3e12L9oIC/s/pyjddRC4tB0rF2IQW99BtsX5cnXQM4zgfraHSsyOgE43t2nWdQpLmM89UWeTJNOJ5yVV1k0U+hM0wy3/Gx2AnHTFaaRek27oDJ8bB2JEWKELa0jkaPLLLaTY6rjbOppr6jmNUwSjVcSramXzP1pEmE7LhXftP+SRM3cTYA/MejELMQ7xKkSpqcvpuXfC4jZzp0UF66ZMPR/E65nNIPxOgZTxkvrKOdolRJqZusRkTVZcaGMqgG3aynKjC6C/YS7N6kHnefHyVdRdy/laRy1MMTf3f0nKbripe6+m5ndXbJtVRTQ1TXnNxcxMK9HNN6dQrnIDyRndOAQYlKzIXBzcnKW9ehrRNOZ77Tc4xGi4HnZl9kZ715Hosts5Q+Ec2Og9kTdgTrOpq4zswOI6I18RaayspLnAW9K55YfzKZT4oAws1cTzotNidC7k4G1WtqmZ+DN4lSXd/c/pe2fAr6QHEdF3Jq2a+yYyt/4HWmcEpp+17cR9vk9iBT109LftqNctLJOB1liSmYqKS3zOERjwbbRFObbLJqdZiF+QGmpzIwuvoo2UQt5nrCI1b+HKElwFSUrL0+x+h05heiE/VOPzit3025waYRFl+5fEOGY6xGZgU9S0ji3KU16uM0F3JiM9S8hApQfHs9BS44zJlV4yB5T5XXvMostKwReVGgkT5cCG1lZw3zboBFKWr94xDnfkuyBA7N5M9uI4hhrJ3qv7erF8YqVWIs4VTPb192/4u5/MrM1fLDAzS4Ud0vu4pi6l+pKcnU5/sMpoVtQnuizDpEOP93MvkXUEH7K3c+hYnaat982xQZr7GZFYaB+0pA3Da3OYDhlXaffBWjvq2gTtZBnD2IVtHnabjtKKqgNOx+JGiHPEPVC/unupeYldz/EzA7z0SSJd3mqyjezsOg/twkhtEsTyWOfI7IRD2S0QH1r6pIs3kaMrltZlF27jRhpFjCzL3p1c7u2XJ3+75Iq/DCxPB3Oka9a6netPdG6wIandkIduNDMjnL3byZ709HEgFE0u1zY3f8FYKlfnpm9DjBiyVnn2GgTp7oO0WUDYvafF9/XNXj/prGTXezrwIySmCcQoUQPEEJwqLufWnF+IwDufm+a7VxuZo/SYHZqqVj80GtXuvt7Cjaf2viD5PDxdfpdq8Px2kQt5Hmjj7a4X8EqalBkg1dynv0U+J67j1jUGSn8/S0SMz4NXO3ud5rZZwkb820WTTebRH80ZXMie/bxtDq60N2PswhZu5tZJb5EyNCH3f0GiySIx9z9nRbtz39Eg+LoTfHxpQqfQThgXkfYBlej3ibYtfZE6wIbFiUOjyWclFOBU4FP1CwTIWaK37KIvX0lUVLxY0Ub5oT3K8CbLHq5XUtcIGtSU03O3b9q0XZoJeK7uNGHauHmGE+94cb7eOqpZWZzE+IxPLgWhhJapMFeDGzlkehzaXJUfsPMbi/xDZxDNH/cxd1vdve7LDrqXkBF4oNFos2ywEI2WOZwMiWdnMdpe8RadPq16GV4EdEWqohSf0XLqIU8nyG3/G9oPlzJ3WckK7n7eVZSzZBwYL8BuCjZlfcl2gEtR8TsjsscMMRIzoG8Gqm7RhogxvXGdeL78pxd8j2ELRJ3fzjdELOCLoVNliFmhIcTs509qS+H2LX2RJcCG8cSF8X+REruBcRFP7VmvwnEMmxKevws9aE56wPvJMT2NHf/okX6ZCXpM51ADHQTiQyobRp8tqY2y/E4pk4nroPFiPZL7yYG2TIOAj6aN7+4+5ctuh8fQuqSmycNPteTC2nzSOhYnmqT0pbE9Xo4g2aA6dSnF3elTaffDYgsxNUY2+6orgxlm6iFPH9Mdt6bGKzGVxV3/x+L8gJnE9ff5pRn7a3NqIloJyIi4wqiw3VpH8aOTLfII5iXGGTzNUqmV+1YR534ZkuCycQFv1/ueZMKYF3oUtjkkTQS/ZrIkT8led8LSUvS7xJOoPcQ9rPDKpak+X0vIEwie3iDNtWJBdz9YjPb36Ol/dHJkVHHnUQ40LbEoJTNfKsKqEx09yfSsnnPtERrcsPsD7zTU8lAi+I151Nc/7aLV388jqlliVVNNrh+meqB8uVFdm93vzQ5PgvxKLI9/NofqfADpCXuP4H1zGxpBkPglmCwnvDMonGnX1IvRHffKs3qS/v5FdAmaiFPfqXadGW0GeHw/hYxwbiCEOAinvFUSY+YwHw997fWNvgavkGYriYBx3kkdGxMVO7rktU4gzrxvcai2tXcwIPu/nOLxpR7kkaAmY13SxW+06IZ3tFE59SFKK/zO7wkvaTBkjTP8URUwaFmdikxu6wLr3syf05mtgoVhcfNbHuPWhZrE2Fq04ng8E3MrLA9Uo4rzexOogbytYSTpjJ1MjHZc7VaPdqrlF3IlUJatEMXx1SO/OC6dLpGqmogTDazicN27vR5ZsmKLa2glmewRu64Cq9U8FNr3uk3L36bUtFMtYDGUQt5hiNa0sBQGWPrEcK5IWFOmATckRPYYR63iPx4MVHk6/J0nGWIgXCm4e7nJrPf/Dlt+DdhNrx6PO9dJ76fJ0b9BRmtSLYDsQyuiwHthHVLFd4eeLu7323htX8vsbwvovWSNE9ahl9kEZO8LnCImc3v7lWt4HchwswWTyaABSmvUQwx0z3aI57yVlKUQKKyKaa772rhrX/Q3Z81s894SSbSEH9IS7jMK/0JSpJCxiOkLR1TGXeZ2WHEauVUi6zHqnO4hgi833vo9T1pVvynC28lHE1tU8i78GliNZjv9Nsk7retfb5x1EIeM/skcZ/lV1z3U+6MzZz75xKTjInAq8xsA3e/qWDzLxODzUuAr3qUGd2e+L23rP9Y7fDokv1Q7vnFM+N96wrrPE2EU+Rf26Nk85lF61ThdMFflx7/EPihmZWNgJ2WpHksqm19lPAE/xE4rOb8brJICX0j4bS4m+rvvrNDyyLBYkei/fkEYC4zW8zdC8PazGzh5NXehrBL75GOeRWRglp1rMZC2sUxleNThEnkLjPblxggq+r57k5kS36cWDI+SQxgjxD9/WYFNxHi4rPo/fN83iPzcUbJRSvPfByPrb1x1MIQuxOVyfYjrqe1Kc+Gyzgc2CQTW4tCNkdQYGJz96vNbDXgP+7+oJl9gpiwHZlWs88J6kLNphAe5bM9gu4PJWZEtxGzx8I2JONkPJ0Y8pSJ1riWpBYdPJ4h7L6ruXtpzLOZzU84vh4DvuXutydB/ATxvVY2qEy0vWHOICJRViWyBTegvFcXhEliuWQ3vNndq2bkQGch3ZLujqmD3H0nAHe/ALjAIgGkMPbbowbtuwgn07KEDfEod69y0o2XK4kZ+kPEZ2qTltwI65b5mG822SamGLpFLUCYie43szsIM9G3LaKYqpg3P8v1aKrwwqIN0wrts8TE4krC8X0+YXf/ileXoZxjqDM7HEZcSL83s7UJZ89y6d+RdK8dW0XXgjfDlIlW5yVpuqH/Qtj2vgK8z8z2qbipTyNmXfMDL0yidQbwCqrb6nRxaGXM7e57J6forcRSvepzdbEJbklLIe3imDKzLDxvpbTayJhETbhTcmxeRXkVuJnNlwn77rjCyGponflIx2aTiS5RCxCRC6sRyUfrW9RbqEpHhsicW89TuJxF8Z+/lmy7DfE9vIqobzG/uz9pZscBt1BdhnKOoU58V3H3pWFG3vvZ7n4vcK+ZDYvXzKJxqrB1q6DWaUlqZqsT8bn7EjOCuQmn4JlmtmmJ8f317r64RWbgTwlzwNHETO7Jgu0zqmYrdbPlx5Mz6jdE+u/1Vh2PmP/+msbfdvbwt3RMHUA4ag5PjzOmEzfdnMRfgOuS6M8SfDTz8QJvmEjg44sp7hK1AHF/bEP4OrYmegNOq9nnk8BpNprSfh/l0Q4TiSpjD5jZ8L3UtVjYbKfuRPPOg6kMNnScVXG+bWbT09q++TiWpHsTha/zzqvbLDL/DqU4Vfgf6Zj/tKhXsbG7NykIM57ZyqmEKWFTouHh+4jiOk1oJRwdPfyNHVMeSRb3EYPRG4hrcBJwjc/kNNKZwG+An5nZ5QzW76ibJTbGUutzoubC8KD5rLvPVOHpErWQHF8Pe3TDvokwkzxKcchi/lj3EiuclxBhbVU1KM4jIrFWc/dp6bhvIVZ5dfH9cwx1P9ZfLapbzUu0H7kCwMym0vyGbkvjVOEGIV6FdFySvqQoasDdf2GR+ltE/gZ5pKHwdpqt2Gi3kX8R4vt+wub7H6ojJMZjE+zi4W/tmLIoK/k14EJi1rOrmU1z95NaHHdW8wdG7d1dsv6akHUaHoj0MLM3Ut+yqDVtoxYsWiK9h9FWYfMQA+a6xIpzm4pjLUGY5JYgahQ/QDjgfjO8rbvvZdG8Mn/dPUkkPP14ePs5lTrx3YkYSV4FfNqjw+iehJ2vshnmOOiSKjw7mNfMJg3HHprZJMq/x3ktYnonAvOkxzNuTC+vataFkxhsiz2cyVTGeGbZXTz8XRxTuwEruvujAGa2D1H8/aQuJz0r8MiQG1NTYyYf5h0WiTozIo7MbFsi6uHQmXwsaB+1sAWwgo/WmXgmmQaOof4a+Q5woLufC2CRyHAsJVmgPtT80929wTHmKOrEd1kiwyMLpt+CKKyzPxE2VVW4uCtdUoVnB5cSdscZqaYWFd8OpaS2MeF8ykL1HmEwbK+0qllHhttin0lNW2wYt02wi5B2cUzNlQkvgLs/as266M42bGxNjbuI36KuSl4b1gR+bGbTCGf48UT1uTXd/eaZeJyMtlELz/hggZ/9ADzSgIc7kQwzfya8aZ+zrby2w/OCOvE9ierZVNsebk1olSo8G9mNiB/+LRE9MImo/3oXEWM4Bk/VzMzs/bN6OeTd2mKPly5C2sUxdYdFC5wswH8bxtnCZRbQqaZGG5K/4n1EhuZniAF2My/ogTaTaBu1MNHMXuypyJOP9t97KfU1SZ4ys+Xc/da0z/JElubzljrx7TSbGieNU4VnJx7NBFc3s3cTrXVGiHoQTUwiBzHzl6CleMO22DOBLkLa2DFlZh/3qHa3LREXfTphwrmSyGqck+haU6MV7v7vJMAXEVmMs0p4oX3UwveAU9Lv9k8AM5uXWMGeVrSDmb3Wo7rf54DzzOwxYpI3H9VZoM95JoyMNLtvcrOp1YiZ3yyZTaWl/Nvd/TqLknbvBd40kxIvesHMLiQcicPxkrVV1FoeZwJj22KfA/wwDR4zFTM7nggNbOzhLwtRHPasp20z7/4cT5qZv4+Yra1EmB5ucPeqeO62x8iHVr6ImATcQPruvbqBZttjZVELF+SiFqYD73f335bsMxcxafoYkcU5QsTjnuruheYKM3uQqJVwGRG7nNlt3ZsXrnpO0jg0ZXbNprxdqvBzhX8w6vnNGKFBCcum2PjaYneltYd/NjmmZispDO5goiLXFkRpx8fo3ky2jJn9foV0jVpI9+4nzeyrjKYF/7wqbMzdF06RDqsSDr19idC0y8zsci+u7fC8oHbmO7tnUyXn8C93f/HsONbswsxe4NH3bGa937NERlDm8Bj4YWucYOM5bquuGZljirCh/4ywmd/lKX14aNunGIwhzpjpqbtdseiisCsxK7ya+A7OIsTq3+5e27x0TsOiJu6MqAVL7e1TZI+7+xKz8NgvI/qk7QKYu88J/p5ZQl1thz5mU0X0bvMdD2a2DmGzzMcuv5hYys0sxtMWuxMdPfxtHFO/ZbR78ZzKdkTkz4uIbtsLJrvsUcR981xkPFELrUiC/k5CZ9YiZtlXEHH9sys1vBfqzA7bEbOpZdO/r9lgU8uZWTSkS6rwc4XDiCXcTkTh5/WpaE3ThXGGjHWli4e/jWPq6Z4+Vxv+m1aA/zGz+zLRcvdnzGxcnQ56ZDxRC235G2G3PhfYwN1/P5Pff46lTnxn52xq2mw81uzmH+5+uUWZvBd51Nxt0hFgTqeLhz9f7P0aYsZ8Ycm2P515pzrLyIvR7KjlOztoHbUwDo4h7MtbA/9jZpcR/QPnqDjuWUHjaAfRHYveYB8nVg/LEXUi7nb3JSt3nMNp6+FPjql/EKUntyCcMiPAR2ZxyNQsIy3Ds2SjFXKPJxCFjV7Sy4mNgy5RCzPhmK8mzA5rEd/jHcCl7v6dWXG8OQGJ72zAoiLaDsTFfAOwCHEhd2473TdthfT56JgCSHHfpXjH+iNzAma2MA2jFmbS8eYmhPcdxDU1n7svNCuP2ScS3x4wswXy6bLPNboIqUXvuRUZ65iaC7jN3ZeZPWcv5iTM7IOE2L4TWJyIgLkKuMrd57SyoTOV50zty+cyZvYaokjIooRA9kmKQwAAAVxJREFUnWpmn0iZPc9Funj4n4+OKTF+diTEdifgF/8fbL0ZEt/Zw7FEP6r9iVoZFxB1Mab2eE7joYuQPh8dU2KcuPuafZ9DX0h8Zw8LuPvFFuUAR4CjzWy7vk9qHHQR0iUtWtIMP55ARVdbIZ6vSHxnD0/mCwRZ1PV9LuetdxHSdWf9aQnx3EHiOwsxsxel5fkuRP2CxVMSwoLAxpU7z9m0FtLnstdfiFmBoh1mIan271apQtvchJNqLiLGt6qBphDieY7EdxZiZmsC3wa+D+wxMwvpCCGe20h8ZzFmNoUok/deIqxmRq2C53ComRBinEh8ZwNJgE8kenD9jTmoJKIQoh/kcJvFpKIzRxINOF+bVYoSQvz/RuI7CzGzc4hCOtu4+5V9n48QYs5B4jtreZjowDxbOn4IIZ47yOYrhBA9MLHvExBCiP+PSHyFEKIHJL5CCNEDEl8hhOiB/wP2l24wTEwaSgAAAABJRU5ErkJggg==\n",
      "text/plain": [
       "<Figure size 432x288 with 1 Axes>"
      ]
     },
     "metadata": {
      "needs_background": "light"
     },
     "output_type": "display_data"
    }
   ],
   "source": [
    "# With the help of heatmaps checking if there are any null values present\n",
    "\n",
    "sns.heatmap(df.isnull(), yticklabels = False, cbar = False)"
   ]
  },
  {
   "cell_type": "code",
   "execution_count": 45,
   "metadata": {},
   "outputs": [],
   "source": [
    "df['BsmtFinType2'] = df['BsmtFinType2'].fillna(df['BsmtFinType2'].mode()[0])"
   ]
  },
  {
   "cell_type": "code",
   "execution_count": 46,
   "metadata": {},
   "outputs": [
    {
     "data": {
      "text/plain": [
       "0"
      ]
     },
     "execution_count": 46,
     "metadata": {},
     "output_type": "execute_result"
    }
   ],
   "source": [
    "df['BsmtFinType2'].isnull().sum()"
   ]
  },
  {
   "cell_type": "code",
   "execution_count": 47,
   "metadata": {},
   "outputs": [
    {
     "data": {
      "text/plain": [
       "(1460, 75)"
      ]
     },
     "execution_count": 47,
     "metadata": {},
     "output_type": "execute_result"
    }
   ],
   "source": [
    "df.shape"
   ]
  },
  {
   "cell_type": "code",
   "execution_count": 48,
   "metadata": {},
   "outputs": [],
   "source": [
    "# Dropping all the records containing the Null values\n",
    "\n",
    "df.dropna(inplace = True)"
   ]
  },
  {
   "cell_type": "code",
   "execution_count": 49,
   "metadata": {},
   "outputs": [
    {
     "data": {
      "text/plain": [
       "(1422, 75)"
      ]
     },
     "execution_count": 49,
     "metadata": {},
     "output_type": "execute_result"
    }
   ],
   "source": [
    "df.shape"
   ]
  },
  {
   "cell_type": "code",
   "execution_count": 50,
   "metadata": {},
   "outputs": [
    {
     "data": {
      "text/html": [
       "<div>\n",
       "<style scoped>\n",
       "    .dataframe tbody tr th:only-of-type {\n",
       "        vertical-align: middle;\n",
       "    }\n",
       "\n",
       "    .dataframe tbody tr th {\n",
       "        vertical-align: top;\n",
       "    }\n",
       "\n",
       "    .dataframe thead th {\n",
       "        text-align: right;\n",
       "    }\n",
       "</style>\n",
       "<table border=\"1\" class=\"dataframe\">\n",
       "  <thead>\n",
       "    <tr style=\"text-align: right;\">\n",
       "      <th></th>\n",
       "      <th>MSSubClass</th>\n",
       "      <th>MSZoning</th>\n",
       "      <th>LotFrontage</th>\n",
       "      <th>LotArea</th>\n",
       "      <th>Street</th>\n",
       "      <th>LotShape</th>\n",
       "      <th>LandContour</th>\n",
       "      <th>Utilities</th>\n",
       "      <th>LotConfig</th>\n",
       "      <th>LandSlope</th>\n",
       "      <th>...</th>\n",
       "      <th>EnclosedPorch</th>\n",
       "      <th>3SsnPorch</th>\n",
       "      <th>ScreenPorch</th>\n",
       "      <th>PoolArea</th>\n",
       "      <th>MiscVal</th>\n",
       "      <th>MoSold</th>\n",
       "      <th>YrSold</th>\n",
       "      <th>SaleType</th>\n",
       "      <th>SaleCondition</th>\n",
       "      <th>SalePrice</th>\n",
       "    </tr>\n",
       "  </thead>\n",
       "  <tbody>\n",
       "    <tr>\n",
       "      <td>0</td>\n",
       "      <td>60</td>\n",
       "      <td>RL</td>\n",
       "      <td>65.0</td>\n",
       "      <td>8450</td>\n",
       "      <td>Pave</td>\n",
       "      <td>Reg</td>\n",
       "      <td>Lvl</td>\n",
       "      <td>AllPub</td>\n",
       "      <td>Inside</td>\n",
       "      <td>Gtl</td>\n",
       "      <td>...</td>\n",
       "      <td>0</td>\n",
       "      <td>0</td>\n",
       "      <td>0</td>\n",
       "      <td>0</td>\n",
       "      <td>0</td>\n",
       "      <td>2</td>\n",
       "      <td>2008</td>\n",
       "      <td>WD</td>\n",
       "      <td>Normal</td>\n",
       "      <td>208500</td>\n",
       "    </tr>\n",
       "    <tr>\n",
       "      <td>1</td>\n",
       "      <td>20</td>\n",
       "      <td>RL</td>\n",
       "      <td>80.0</td>\n",
       "      <td>9600</td>\n",
       "      <td>Pave</td>\n",
       "      <td>Reg</td>\n",
       "      <td>Lvl</td>\n",
       "      <td>AllPub</td>\n",
       "      <td>FR2</td>\n",
       "      <td>Gtl</td>\n",
       "      <td>...</td>\n",
       "      <td>0</td>\n",
       "      <td>0</td>\n",
       "      <td>0</td>\n",
       "      <td>0</td>\n",
       "      <td>0</td>\n",
       "      <td>5</td>\n",
       "      <td>2007</td>\n",
       "      <td>WD</td>\n",
       "      <td>Normal</td>\n",
       "      <td>181500</td>\n",
       "    </tr>\n",
       "    <tr>\n",
       "      <td>2</td>\n",
       "      <td>60</td>\n",
       "      <td>RL</td>\n",
       "      <td>68.0</td>\n",
       "      <td>11250</td>\n",
       "      <td>Pave</td>\n",
       "      <td>IR1</td>\n",
       "      <td>Lvl</td>\n",
       "      <td>AllPub</td>\n",
       "      <td>Inside</td>\n",
       "      <td>Gtl</td>\n",
       "      <td>...</td>\n",
       "      <td>0</td>\n",
       "      <td>0</td>\n",
       "      <td>0</td>\n",
       "      <td>0</td>\n",
       "      <td>0</td>\n",
       "      <td>9</td>\n",
       "      <td>2008</td>\n",
       "      <td>WD</td>\n",
       "      <td>Normal</td>\n",
       "      <td>223500</td>\n",
       "    </tr>\n",
       "    <tr>\n",
       "      <td>3</td>\n",
       "      <td>70</td>\n",
       "      <td>RL</td>\n",
       "      <td>60.0</td>\n",
       "      <td>9550</td>\n",
       "      <td>Pave</td>\n",
       "      <td>IR1</td>\n",
       "      <td>Lvl</td>\n",
       "      <td>AllPub</td>\n",
       "      <td>Corner</td>\n",
       "      <td>Gtl</td>\n",
       "      <td>...</td>\n",
       "      <td>272</td>\n",
       "      <td>0</td>\n",
       "      <td>0</td>\n",
       "      <td>0</td>\n",
       "      <td>0</td>\n",
       "      <td>2</td>\n",
       "      <td>2006</td>\n",
       "      <td>WD</td>\n",
       "      <td>Abnorml</td>\n",
       "      <td>140000</td>\n",
       "    </tr>\n",
       "    <tr>\n",
       "      <td>4</td>\n",
       "      <td>60</td>\n",
       "      <td>RL</td>\n",
       "      <td>84.0</td>\n",
       "      <td>14260</td>\n",
       "      <td>Pave</td>\n",
       "      <td>IR1</td>\n",
       "      <td>Lvl</td>\n",
       "      <td>AllPub</td>\n",
       "      <td>FR2</td>\n",
       "      <td>Gtl</td>\n",
       "      <td>...</td>\n",
       "      <td>0</td>\n",
       "      <td>0</td>\n",
       "      <td>0</td>\n",
       "      <td>0</td>\n",
       "      <td>0</td>\n",
       "      <td>12</td>\n",
       "      <td>2008</td>\n",
       "      <td>WD</td>\n",
       "      <td>Normal</td>\n",
       "      <td>250000</td>\n",
       "    </tr>\n",
       "  </tbody>\n",
       "</table>\n",
       "<p>5 rows × 75 columns</p>\n",
       "</div>"
      ],
      "text/plain": [
       "   MSSubClass MSZoning  LotFrontage  LotArea Street LotShape LandContour  \\\n",
       "0          60       RL         65.0     8450   Pave      Reg         Lvl   \n",
       "1          20       RL         80.0     9600   Pave      Reg         Lvl   \n",
       "2          60       RL         68.0    11250   Pave      IR1         Lvl   \n",
       "3          70       RL         60.0     9550   Pave      IR1         Lvl   \n",
       "4          60       RL         84.0    14260   Pave      IR1         Lvl   \n",
       "\n",
       "  Utilities LotConfig LandSlope  ... EnclosedPorch 3SsnPorch ScreenPorch  \\\n",
       "0    AllPub    Inside       Gtl  ...             0         0           0   \n",
       "1    AllPub       FR2       Gtl  ...             0         0           0   \n",
       "2    AllPub    Inside       Gtl  ...             0         0           0   \n",
       "3    AllPub    Corner       Gtl  ...           272         0           0   \n",
       "4    AllPub       FR2       Gtl  ...             0         0           0   \n",
       "\n",
       "  PoolArea MiscVal  MoSold  YrSold  SaleType  SaleCondition SalePrice  \n",
       "0        0       0       2    2008        WD         Normal    208500  \n",
       "1        0       0       5    2007        WD         Normal    181500  \n",
       "2        0       0       9    2008        WD         Normal    223500  \n",
       "3        0       0       2    2006        WD        Abnorml    140000  \n",
       "4        0       0      12    2008        WD         Normal    250000  \n",
       "\n",
       "[5 rows x 75 columns]"
      ]
     },
     "execution_count": 50,
     "metadata": {},
     "output_type": "execute_result"
    }
   ],
   "source": [
    "df.head()"
   ]
  },
  {
   "cell_type": "code",
   "execution_count": 51,
   "metadata": {},
   "outputs": [],
   "source": [
    "## Handling the categorical features"
   ]
  },
  {
   "cell_type": "code",
   "execution_count": 52,
   "metadata": {},
   "outputs": [],
   "source": [
    "categorical_features = df.select_dtypes(include = ['object'])"
   ]
  },
  {
   "cell_type": "code",
   "execution_count": 53,
   "metadata": {},
   "outputs": [
    {
     "data": {
      "text/plain": [
       "(1422, 39)"
      ]
     },
     "execution_count": 53,
     "metadata": {},
     "output_type": "execute_result"
    }
   ],
   "source": [
    "categorical_features.shape"
   ]
  },
  {
   "cell_type": "code",
   "execution_count": 54,
   "metadata": {},
   "outputs": [
    {
     "data": {
      "text/plain": [
       "Index(['MSZoning', 'Street', 'LotShape', 'LandContour', 'Utilities',\n",
       "       'LotConfig', 'LandSlope', 'Neighborhood', 'Condition1', 'Condition2',\n",
       "       'BldgType', 'HouseStyle', 'RoofStyle', 'RoofMatl', 'Exterior1st',\n",
       "       'Exterior2nd', 'MasVnrType', 'ExterQual', 'ExterCond', 'Foundation',\n",
       "       'BsmtQual', 'BsmtCond', 'BsmtExposure', 'BsmtFinType1', 'BsmtFinType2',\n",
       "       'Heating', 'HeatingQC', 'CentralAir', 'Electrical', 'KitchenQual',\n",
       "       'Functional', 'FireplaceQu', 'GarageType', 'GarageFinish', 'GarageQual',\n",
       "       'GarageCond', 'PavedDrive', 'SaleType', 'SaleCondition'],\n",
       "      dtype='object')"
      ]
     },
     "execution_count": 54,
     "metadata": {},
     "output_type": "execute_result"
    }
   ],
   "source": [
    "categorical_features.columns"
   ]
  },
  {
   "cell_type": "code",
   "execution_count": 55,
   "metadata": {},
   "outputs": [],
   "source": [
    "categorical_features_from_dataset = ['MSZoning', 'Street', 'LotShape', 'LandContour', 'Utilities',\n",
    "       'LotConfig', 'LandSlope', 'Neighborhood', 'Condition1', 'Condition2',\n",
    "       'BldgType', 'HouseStyle', 'RoofStyle', 'RoofMatl', 'Exterior1st',\n",
    "       'Exterior2nd', 'MasVnrType', 'ExterQual', 'ExterCond', 'Foundation',\n",
    "       'BsmtQual', 'BsmtCond', 'BsmtExposure', 'BsmtFinType1', 'BsmtFinType2',\n",
    "       'Heating', 'HeatingQC', 'CentralAir', 'Electrical', 'KitchenQual',\n",
    "       'Functional', 'FireplaceQu', 'GarageType', 'GarageFinish', 'GarageQual',\n",
    "       'GarageCond', 'PavedDrive', 'SaleType', 'SaleCondition']"
   ]
  },
  {
   "cell_type": "code",
   "execution_count": 56,
   "metadata": {},
   "outputs": [
    {
     "data": {
      "text/plain": [
       "39"
      ]
     },
     "execution_count": 56,
     "metadata": {},
     "output_type": "execute_result"
    }
   ],
   "source": [
    "len(categorical_features_from_dataset)"
   ]
  },
  {
   "cell_type": "code",
   "execution_count": 57,
   "metadata": {},
   "outputs": [],
   "source": [
    "# Taking all the categorical features and doing one-hot encoding\n",
    "\n",
    "def oneHotEncoding(multicolumns):\n",
    "    final_df = df_final\n",
    "    j = 0\n",
    "    for i in multicolumns:\n",
    "        print(i)\n",
    "        df1 = pd.get_dummies(df_final[i], drop_first = True)\n",
    "        \n",
    "        df_final.drop([i],axis = 1,inplace = True)\n",
    "        \n",
    "        if j ==0:\n",
    "            final_df = df1.copy()\n",
    "        else:\n",
    "            final_df = pd.concat([final_df,df1], axis = 1)\n",
    "        j = j+1\n",
    "        \n",
    "        \n",
    "    final_df = pd.concat([df_final,final_df],axis = 1)\n",
    "    \n",
    "    return final_df\n",
    "    \n",
    "    \n",
    "    "
   ]
  },
  {
   "cell_type": "code",
   "execution_count": 58,
   "metadata": {
    "scrolled": true
   },
   "outputs": [
    {
     "data": {
      "text/plain": [
       "(1459, 74)"
      ]
     },
     "execution_count": 58,
     "metadata": {},
     "output_type": "execute_result"
    }
   ],
   "source": [
    "df_test = pd.read_csv(\"formulatedtest.csv\")\n",
    "\n",
    "df_test.shape"
   ]
  },
  {
   "cell_type": "code",
   "execution_count": 59,
   "metadata": {},
   "outputs": [
    {
     "data": {
      "text/plain": [
       "(1422, 75)"
      ]
     },
     "execution_count": 59,
     "metadata": {},
     "output_type": "execute_result"
    }
   ],
   "source": [
    "df.shape"
   ]
  },
  {
   "cell_type": "code",
   "execution_count": 60,
   "metadata": {},
   "outputs": [
    {
     "name": "stderr",
     "output_type": "stream",
     "text": [
      "C:\\Users\\Prasanna R\\Anaconda3\\lib\\site-packages\\ipykernel_launcher.py:1: FutureWarning: Sorting because non-concatenation axis is not aligned. A future version\n",
      "of pandas will change to not sort by default.\n",
      "\n",
      "To accept the future behavior, pass 'sort=False'.\n",
      "\n",
      "To retain the current behavior and silence the warning, pass 'sort=True'.\n",
      "\n",
      "  \"\"\"Entry point for launching an IPython kernel.\n"
     ]
    }
   ],
   "source": [
    "df_final = pd.concat([df,df_test],axis = 0)"
   ]
  },
  {
   "cell_type": "code",
   "execution_count": 61,
   "metadata": {},
   "outputs": [
    {
     "data": {
      "text/plain": [
       "(2881, 75)"
      ]
     },
     "execution_count": 61,
     "metadata": {},
     "output_type": "execute_result"
    }
   ],
   "source": [
    "df_final.shape"
   ]
  },
  {
   "cell_type": "code",
   "execution_count": 62,
   "metadata": {},
   "outputs": [
    {
     "name": "stdout",
     "output_type": "stream",
     "text": [
      "MSZoning\n",
      "Street\n",
      "LotShape\n",
      "LandContour\n",
      "Utilities\n",
      "LotConfig\n",
      "LandSlope\n",
      "Neighborhood\n",
      "Condition1\n",
      "Condition2\n",
      "BldgType\n",
      "HouseStyle\n",
      "RoofStyle\n",
      "RoofMatl\n",
      "Exterior1st\n",
      "Exterior2nd\n",
      "MasVnrType\n",
      "ExterQual\n",
      "ExterCond\n",
      "Foundation\n",
      "BsmtQual\n",
      "BsmtCond\n",
      "BsmtExposure\n",
      "BsmtFinType1\n",
      "BsmtFinType2\n",
      "Heating\n",
      "HeatingQC\n",
      "CentralAir\n",
      "Electrical\n",
      "KitchenQual\n",
      "Functional\n",
      "FireplaceQu\n",
      "GarageType\n",
      "GarageFinish\n",
      "GarageQual\n",
      "GarageCond\n",
      "PavedDrive\n",
      "SaleType\n",
      "SaleCondition\n"
     ]
    }
   ],
   "source": [
    "df_final = oneHotEncoding(categorical_features_from_dataset)"
   ]
  },
  {
   "cell_type": "code",
   "execution_count": 63,
   "metadata": {},
   "outputs": [
    {
     "data": {
      "text/plain": [
       "(2881, 235)"
      ]
     },
     "execution_count": 63,
     "metadata": {},
     "output_type": "execute_result"
    }
   ],
   "source": [
    "df_final.shape"
   ]
  },
  {
   "cell_type": "code",
   "execution_count": 64,
   "metadata": {},
   "outputs": [],
   "source": [
    "# Removing the duplicate columns\n",
    "\n",
    "df_final = df_final.loc[:,~df_final.columns.duplicated()]"
   ]
  },
  {
   "cell_type": "code",
   "execution_count": 65,
   "metadata": {},
   "outputs": [
    {
     "data": {
      "text/plain": [
       "(2881, 175)"
      ]
     },
     "execution_count": 65,
     "metadata": {},
     "output_type": "execute_result"
    }
   ],
   "source": [
    "df_final.shape"
   ]
  },
  {
   "cell_type": "code",
   "execution_count": 66,
   "metadata": {},
   "outputs": [
    {
     "data": {
      "text/html": [
       "<div>\n",
       "<style scoped>\n",
       "    .dataframe tbody tr th:only-of-type {\n",
       "        vertical-align: middle;\n",
       "    }\n",
       "\n",
       "    .dataframe tbody tr th {\n",
       "        vertical-align: top;\n",
       "    }\n",
       "\n",
       "    .dataframe thead th {\n",
       "        text-align: right;\n",
       "    }\n",
       "</style>\n",
       "<table border=\"1\" class=\"dataframe\">\n",
       "  <thead>\n",
       "    <tr style=\"text-align: right;\">\n",
       "      <th></th>\n",
       "      <th>1stFlrSF</th>\n",
       "      <th>2ndFlrSF</th>\n",
       "      <th>3SsnPorch</th>\n",
       "      <th>BedroomAbvGr</th>\n",
       "      <th>BsmtFinSF1</th>\n",
       "      <th>BsmtFinSF2</th>\n",
       "      <th>BsmtFullBath</th>\n",
       "      <th>BsmtHalfBath</th>\n",
       "      <th>BsmtUnfSF</th>\n",
       "      <th>EnclosedPorch</th>\n",
       "      <th>...</th>\n",
       "      <th>ConLI</th>\n",
       "      <th>ConLw</th>\n",
       "      <th>New</th>\n",
       "      <th>Oth</th>\n",
       "      <th>WD</th>\n",
       "      <th>AdjLand</th>\n",
       "      <th>Alloca</th>\n",
       "      <th>Family</th>\n",
       "      <th>Normal</th>\n",
       "      <th>Partial</th>\n",
       "    </tr>\n",
       "  </thead>\n",
       "  <tbody>\n",
       "    <tr>\n",
       "      <td>0</td>\n",
       "      <td>856</td>\n",
       "      <td>854</td>\n",
       "      <td>0</td>\n",
       "      <td>3</td>\n",
       "      <td>706.0</td>\n",
       "      <td>0.0</td>\n",
       "      <td>1.0</td>\n",
       "      <td>0.0</td>\n",
       "      <td>150.0</td>\n",
       "      <td>0</td>\n",
       "      <td>...</td>\n",
       "      <td>0</td>\n",
       "      <td>0</td>\n",
       "      <td>0</td>\n",
       "      <td>0</td>\n",
       "      <td>1</td>\n",
       "      <td>0</td>\n",
       "      <td>0</td>\n",
       "      <td>0</td>\n",
       "      <td>1</td>\n",
       "      <td>0</td>\n",
       "    </tr>\n",
       "    <tr>\n",
       "      <td>1</td>\n",
       "      <td>1262</td>\n",
       "      <td>0</td>\n",
       "      <td>0</td>\n",
       "      <td>3</td>\n",
       "      <td>978.0</td>\n",
       "      <td>0.0</td>\n",
       "      <td>0.0</td>\n",
       "      <td>1.0</td>\n",
       "      <td>284.0</td>\n",
       "      <td>0</td>\n",
       "      <td>...</td>\n",
       "      <td>0</td>\n",
       "      <td>0</td>\n",
       "      <td>0</td>\n",
       "      <td>0</td>\n",
       "      <td>1</td>\n",
       "      <td>0</td>\n",
       "      <td>0</td>\n",
       "      <td>0</td>\n",
       "      <td>1</td>\n",
       "      <td>0</td>\n",
       "    </tr>\n",
       "    <tr>\n",
       "      <td>2</td>\n",
       "      <td>920</td>\n",
       "      <td>866</td>\n",
       "      <td>0</td>\n",
       "      <td>3</td>\n",
       "      <td>486.0</td>\n",
       "      <td>0.0</td>\n",
       "      <td>1.0</td>\n",
       "      <td>0.0</td>\n",
       "      <td>434.0</td>\n",
       "      <td>0</td>\n",
       "      <td>...</td>\n",
       "      <td>0</td>\n",
       "      <td>0</td>\n",
       "      <td>0</td>\n",
       "      <td>0</td>\n",
       "      <td>1</td>\n",
       "      <td>0</td>\n",
       "      <td>0</td>\n",
       "      <td>0</td>\n",
       "      <td>1</td>\n",
       "      <td>0</td>\n",
       "    </tr>\n",
       "    <tr>\n",
       "      <td>3</td>\n",
       "      <td>961</td>\n",
       "      <td>756</td>\n",
       "      <td>0</td>\n",
       "      <td>3</td>\n",
       "      <td>216.0</td>\n",
       "      <td>0.0</td>\n",
       "      <td>1.0</td>\n",
       "      <td>0.0</td>\n",
       "      <td>540.0</td>\n",
       "      <td>272</td>\n",
       "      <td>...</td>\n",
       "      <td>0</td>\n",
       "      <td>0</td>\n",
       "      <td>0</td>\n",
       "      <td>0</td>\n",
       "      <td>1</td>\n",
       "      <td>0</td>\n",
       "      <td>0</td>\n",
       "      <td>0</td>\n",
       "      <td>0</td>\n",
       "      <td>0</td>\n",
       "    </tr>\n",
       "    <tr>\n",
       "      <td>4</td>\n",
       "      <td>1145</td>\n",
       "      <td>1053</td>\n",
       "      <td>0</td>\n",
       "      <td>4</td>\n",
       "      <td>655.0</td>\n",
       "      <td>0.0</td>\n",
       "      <td>1.0</td>\n",
       "      <td>0.0</td>\n",
       "      <td>490.0</td>\n",
       "      <td>0</td>\n",
       "      <td>...</td>\n",
       "      <td>0</td>\n",
       "      <td>0</td>\n",
       "      <td>0</td>\n",
       "      <td>0</td>\n",
       "      <td>1</td>\n",
       "      <td>0</td>\n",
       "      <td>0</td>\n",
       "      <td>0</td>\n",
       "      <td>1</td>\n",
       "      <td>0</td>\n",
       "    </tr>\n",
       "  </tbody>\n",
       "</table>\n",
       "<p>5 rows × 175 columns</p>\n",
       "</div>"
      ],
      "text/plain": [
       "   1stFlrSF  2ndFlrSF  3SsnPorch  BedroomAbvGr  BsmtFinSF1  BsmtFinSF2  \\\n",
       "0       856       854          0             3       706.0         0.0   \n",
       "1      1262         0          0             3       978.0         0.0   \n",
       "2       920       866          0             3       486.0         0.0   \n",
       "3       961       756          0             3       216.0         0.0   \n",
       "4      1145      1053          0             4       655.0         0.0   \n",
       "\n",
       "   BsmtFullBath  BsmtHalfBath  BsmtUnfSF  EnclosedPorch  ...  ConLI  ConLw  \\\n",
       "0           1.0           0.0      150.0              0  ...      0      0   \n",
       "1           0.0           1.0      284.0              0  ...      0      0   \n",
       "2           1.0           0.0      434.0              0  ...      0      0   \n",
       "3           1.0           0.0      540.0            272  ...      0      0   \n",
       "4           1.0           0.0      490.0              0  ...      0      0   \n",
       "\n",
       "   New  Oth  WD  AdjLand  Alloca  Family  Normal  Partial  \n",
       "0    0    0   1        0       0       0       1        0  \n",
       "1    0    0   1        0       0       0       1        0  \n",
       "2    0    0   1        0       0       0       1        0  \n",
       "3    0    0   1        0       0       0       0        0  \n",
       "4    0    0   1        0       0       0       1        0  \n",
       "\n",
       "[5 rows x 175 columns]"
      ]
     },
     "execution_count": 66,
     "metadata": {},
     "output_type": "execute_result"
    }
   ],
   "source": [
    "df_final.head()"
   ]
  },
  {
   "cell_type": "code",
   "execution_count": 67,
   "metadata": {},
   "outputs": [],
   "source": [
    "df_train = df_final.iloc[:1422,:]\n",
    "df_test = df_final.iloc[1422:,:]"
   ]
  },
  {
   "cell_type": "code",
   "execution_count": 68,
   "metadata": {},
   "outputs": [
    {
     "name": "stderr",
     "output_type": "stream",
     "text": [
      "C:\\Users\\Prasanna R\\Anaconda3\\lib\\site-packages\\pandas\\core\\frame.py:4102: SettingWithCopyWarning: \n",
      "A value is trying to be set on a copy of a slice from a DataFrame\n",
      "\n",
      "See the caveats in the documentation: http://pandas.pydata.org/pandas-docs/stable/user_guide/indexing.html#returning-a-view-versus-a-copy\n",
      "  errors=errors,\n"
     ]
    }
   ],
   "source": [
    "df_test.drop(['SalePrice'], axis = 1, inplace = True)"
   ]
  },
  {
   "cell_type": "code",
   "execution_count": 69,
   "metadata": {},
   "outputs": [
    {
     "data": {
      "text/plain": [
       "(1422, 175)"
      ]
     },
     "execution_count": 69,
     "metadata": {},
     "output_type": "execute_result"
    }
   ],
   "source": [
    "df_train.shape"
   ]
  },
  {
   "cell_type": "code",
   "execution_count": 70,
   "metadata": {},
   "outputs": [
    {
     "data": {
      "text/plain": [
       "(1459, 174)"
      ]
     },
     "execution_count": 70,
     "metadata": {},
     "output_type": "execute_result"
    }
   ],
   "source": [
    "df_test.shape"
   ]
  },
  {
   "cell_type": "code",
   "execution_count": 71,
   "metadata": {},
   "outputs": [],
   "source": [
    "X_train = df_train.drop(['SalePrice'], axis = 1)\n",
    "Y_train = df_train['SalePrice']"
   ]
  },
  {
   "cell_type": "code",
   "execution_count": 72,
   "metadata": {},
   "outputs": [
    {
     "data": {
      "text/plain": [
       "XGBRegressor(base_score=0.5, booster='gbtree', colsample_bylevel=1,\n",
       "             colsample_bynode=1, colsample_bytree=1, gamma=0, gpu_id=-1,\n",
       "             importance_type='gain', interaction_constraints='',\n",
       "             learning_rate=0.300000012, max_delta_step=0, max_depth=6,\n",
       "             min_child_weight=1, missing=nan, monotone_constraints='()',\n",
       "             n_estimators=100, n_jobs=0, num_parallel_tree=1,\n",
       "             objective='reg:squarederror', random_state=0, reg_alpha=0,\n",
       "             reg_lambda=1, scale_pos_weight=1, subsample=1, tree_method='exact',\n",
       "             validate_parameters=1, verbosity=None)"
      ]
     },
     "execution_count": 72,
     "metadata": {},
     "output_type": "execute_result"
    }
   ],
   "source": [
    "# Model Building\n",
    "\n",
    "import xgboost\n",
    "classifier = xgboost.XGBRegressor()\n",
    "classifier.fit(X_train,Y_train)"
   ]
  },
  {
   "cell_type": "code",
   "execution_count": 73,
   "metadata": {},
   "outputs": [],
   "source": [
    "import xgboost\n",
    "regressor = xgboost.XGBRegressor()"
   ]
  },
  {
   "cell_type": "code",
   "execution_count": 74,
   "metadata": {},
   "outputs": [],
   "source": [
    "booster = ['gdtree','gdlinear']\n",
    "base_score = [.25,0.5,0.75,1]"
   ]
  },
  {
   "cell_type": "code",
   "execution_count": 75,
   "metadata": {},
   "outputs": [],
   "source": [
    "from sklearn.model_selection import RandomizedSearchCV"
   ]
  },
  {
   "cell_type": "code",
   "execution_count": 76,
   "metadata": {},
   "outputs": [],
   "source": [
    "# Hyperparamater optimization\n",
    "\n",
    "n_estimators = [100, 500, 900, 1100, 1500]\n",
    "max_depth = [2,3,5,10,15]\n",
    "booster = ['gdtree','gdlinear']\n",
    "learning_rate = [0.05, 0.1, 0.15, 0.20]\n",
    "min_child_weight = [1,2,3,4]\n",
    "\n",
    "\n",
    "# Defining the grid of hyperparameters to search\n",
    "\n",
    "hyperparameter_grid = {'n_estimators': n_estimators,\n",
    "                      'max_depth': max_depth,\n",
    "                      'booster': booster,\n",
    "                      'learning_rate': learning_rate,\n",
    "                      'min_child_weight': min_child_weight,\n",
    "                      'base_score': base_score}"
   ]
  },
  {
   "cell_type": "code",
   "execution_count": 78,
   "metadata": {},
   "outputs": [],
   "source": [
    "# Setting up the random search with 4 - fold cross validation\n",
    "\n",
    "\n",
    "random_cv = RandomizedSearchCV(estimator = regressor,\n",
    "                  param_distributions = hyperparameter_grid,\n",
    "                  cv = 5, n_iter = 50,\n",
    "                  scoring = 'neg_mean_absolute_error', n_jobs = 4,\n",
    "                  verbose = 5,\n",
    "                  return_train_score = True,\n",
    "                  random_state = 42)"
   ]
  },
  {
   "cell_type": "code",
   "execution_count": 79,
   "metadata": {},
   "outputs": [],
   "source": [
    "# from xgboost import XGBRegressor\n",
    "# XGBRegressor()"
   ]
  },
  {
   "cell_type": "code",
   "execution_count": 81,
   "metadata": {},
   "outputs": [
    {
     "name": "stdout",
     "output_type": "stream",
     "text": [
      "RandomizedSearchCV(cv=5, error_score='raise-deprecating',\n",
      "                   estimator=XGBRegressor(base_score=None, booster=None,\n",
      "                                          colsample_bylevel=None,\n",
      "                                          colsample_bynode=None,\n",
      "                                          colsample_bytree=None, gamma=None,\n",
      "                                          gpu_id=None, importance_type='gain',\n",
      "                                          interaction_constraints=None,\n",
      "                                          learning_rate=None,\n",
      "                                          max_delta_step=None, max_depth=None,\n",
      "                                          min_child_weight=None, missing=nan,\n",
      "                                          monotone_con...\n",
      "                   iid='warn', n_iter=50, n_jobs=4,\n",
      "                   param_distributions={'base_score': [0.25, 0.5, 0.75, 1],\n",
      "                                        'booster': ['gdtree', 'gdlinear'],\n",
      "                                        'learning_rate': [0.05, 0.1, 0.15, 0.2],\n",
      "                                        'max_depth': [2, 3, 5, 10, 15],\n",
      "                                        'min_child_weight': [1, 2, 3, 4],\n",
      "                                        'n_estimators': [100, 500, 900, 1100,\n",
      "                                                         1500]},\n",
      "                   pre_dispatch='2*n_jobs', random_state=42, refit=True,\n",
      "                   return_train_score=True, scoring='neg_mean_absolute_error',\n",
      "                   verbose=5)\n"
     ]
    }
   ],
   "source": [
    "print(random_cv)"
   ]
  },
  {
   "cell_type": "code",
   "execution_count": 82,
   "metadata": {},
   "outputs": [
    {
     "name": "stdout",
     "output_type": "stream",
     "text": [
      "Fitting 5 folds for each of 50 candidates, totalling 250 fits\n"
     ]
    },
    {
     "name": "stderr",
     "output_type": "stream",
     "text": [
      "[Parallel(n_jobs=4)]: Using backend LokyBackend with 4 concurrent workers.\n"
     ]
    },
    {
     "ename": "XGBoostError",
     "evalue": "[07:00:04] C:\\Users\\Administrator\\workspace\\xgboost-win64_release_1.2.0\\src\\gbm\\gbm.cc:26: Unknown gbm type gdlinear",
     "output_type": "error",
     "traceback": [
      "\u001b[1;31m---------------------------------------------------------------------------\u001b[0m",
      "\u001b[1;31m_RemoteTraceback\u001b[0m                          Traceback (most recent call last)",
      "\u001b[1;31m_RemoteTraceback\u001b[0m: \n\"\"\"\nTraceback (most recent call last):\n  File \"C:\\Users\\Prasanna R\\Anaconda3\\lib\\site-packages\\joblib\\externals\\loky\\process_executor.py\", line 418, in _process_worker\n    r = call_item()\n  File \"C:\\Users\\Prasanna R\\Anaconda3\\lib\\site-packages\\joblib\\externals\\loky\\process_executor.py\", line 272, in __call__\n    return self.fn(*self.args, **self.kwargs)\n  File \"C:\\Users\\Prasanna R\\Anaconda3\\lib\\site-packages\\joblib\\_parallel_backends.py\", line 567, in __call__\n    return self.func(*args, **kwargs)\n  File \"C:\\Users\\Prasanna R\\Anaconda3\\lib\\site-packages\\joblib\\parallel.py\", line 225, in __call__\n    for func, args, kwargs in self.items]\n  File \"C:\\Users\\Prasanna R\\Anaconda3\\lib\\site-packages\\joblib\\parallel.py\", line 225, in <listcomp>\n    for func, args, kwargs in self.items]\n  File \"C:\\Users\\Prasanna R\\Anaconda3\\lib\\site-packages\\sklearn\\model_selection\\_validation.py\", line 516, in _fit_and_score\n    estimator.fit(X_train, y_train, **fit_params)\n  File \"C:\\Users\\Prasanna R\\Anaconda3\\lib\\site-packages\\xgboost\\sklearn.py\", line 548, in fit\n    callbacks=callbacks)\n  File \"C:\\Users\\Prasanna R\\Anaconda3\\lib\\site-packages\\xgboost\\training.py\", line 212, in train\n    xgb_model=xgb_model, callbacks=callbacks)\n  File \"C:\\Users\\Prasanna R\\Anaconda3\\lib\\site-packages\\xgboost\\training.py\", line 75, in _train_internal\n    bst.update(dtrain, i, obj)\n  File \"C:\\Users\\Prasanna R\\Anaconda3\\lib\\site-packages\\xgboost\\core.py\", line 1161, in update\n    dtrain.handle))\n  File \"C:\\Users\\Prasanna R\\Anaconda3\\lib\\site-packages\\xgboost\\core.py\", line 188, in _check_call\n    raise XGBoostError(py_str(_LIB.XGBGetLastError()))\nxgboost.core.XGBoostError: [07:00:04] C:\\Users\\Administrator\\workspace\\xgboost-win64_release_1.2.0\\src\\gbm\\gbm.cc:26: Unknown gbm type gdlinear\n\"\"\"",
      "\nThe above exception was the direct cause of the following exception:\n",
      "\u001b[1;31mXGBoostError\u001b[0m                              Traceback (most recent call last)",
      "\u001b[1;32m<ipython-input-82-cac8d03ba9be>\u001b[0m in \u001b[0;36m<module>\u001b[1;34m\u001b[0m\n\u001b[1;32m----> 1\u001b[1;33m \u001b[0mrandom_cv\u001b[0m\u001b[1;33m.\u001b[0m\u001b[0mfit\u001b[0m\u001b[1;33m(\u001b[0m\u001b[0mX_train\u001b[0m\u001b[1;33m,\u001b[0m\u001b[0mY_train\u001b[0m\u001b[1;33m)\u001b[0m\u001b[1;33m\u001b[0m\u001b[1;33m\u001b[0m\u001b[0m\n\u001b[0m",
      "\u001b[1;32m~\\Anaconda3\\lib\\site-packages\\sklearn\\model_selection\\_search.py\u001b[0m in \u001b[0;36mfit\u001b[1;34m(self, X, y, groups, **fit_params)\u001b[0m\n\u001b[0;32m    686\u001b[0m                 \u001b[1;32mreturn\u001b[0m \u001b[0mresults\u001b[0m\u001b[1;33m\u001b[0m\u001b[1;33m\u001b[0m\u001b[0m\n\u001b[0;32m    687\u001b[0m \u001b[1;33m\u001b[0m\u001b[0m\n\u001b[1;32m--> 688\u001b[1;33m             \u001b[0mself\u001b[0m\u001b[1;33m.\u001b[0m\u001b[0m_run_search\u001b[0m\u001b[1;33m(\u001b[0m\u001b[0mevaluate_candidates\u001b[0m\u001b[1;33m)\u001b[0m\u001b[1;33m\u001b[0m\u001b[1;33m\u001b[0m\u001b[0m\n\u001b[0m\u001b[0;32m    689\u001b[0m \u001b[1;33m\u001b[0m\u001b[0m\n\u001b[0;32m    690\u001b[0m         \u001b[1;31m# For multi-metric evaluation, store the best_index_, best_params_ and\u001b[0m\u001b[1;33m\u001b[0m\u001b[1;33m\u001b[0m\u001b[1;33m\u001b[0m\u001b[0m\n",
      "\u001b[1;32m~\\Anaconda3\\lib\\site-packages\\sklearn\\model_selection\\_search.py\u001b[0m in \u001b[0;36m_run_search\u001b[1;34m(self, evaluate_candidates)\u001b[0m\n\u001b[0;32m   1467\u001b[0m         evaluate_candidates(ParameterSampler(\n\u001b[0;32m   1468\u001b[0m             \u001b[0mself\u001b[0m\u001b[1;33m.\u001b[0m\u001b[0mparam_distributions\u001b[0m\u001b[1;33m,\u001b[0m \u001b[0mself\u001b[0m\u001b[1;33m.\u001b[0m\u001b[0mn_iter\u001b[0m\u001b[1;33m,\u001b[0m\u001b[1;33m\u001b[0m\u001b[1;33m\u001b[0m\u001b[0m\n\u001b[1;32m-> 1469\u001b[1;33m             random_state=self.random_state))\n\u001b[0m",
      "\u001b[1;32m~\\Anaconda3\\lib\\site-packages\\sklearn\\model_selection\\_search.py\u001b[0m in \u001b[0;36mevaluate_candidates\u001b[1;34m(candidate_params)\u001b[0m\n\u001b[0;32m    665\u001b[0m                                \u001b[1;32mfor\u001b[0m \u001b[0mparameters\u001b[0m\u001b[1;33m,\u001b[0m \u001b[1;33m(\u001b[0m\u001b[0mtrain\u001b[0m\u001b[1;33m,\u001b[0m \u001b[0mtest\u001b[0m\u001b[1;33m)\u001b[0m\u001b[1;33m\u001b[0m\u001b[1;33m\u001b[0m\u001b[0m\n\u001b[0;32m    666\u001b[0m                                in product(candidate_params,\n\u001b[1;32m--> 667\u001b[1;33m                                           cv.split(X, y, groups)))\n\u001b[0m\u001b[0;32m    668\u001b[0m \u001b[1;33m\u001b[0m\u001b[0m\n\u001b[0;32m    669\u001b[0m                 \u001b[1;32mif\u001b[0m \u001b[0mlen\u001b[0m\u001b[1;33m(\u001b[0m\u001b[0mout\u001b[0m\u001b[1;33m)\u001b[0m \u001b[1;33m<\u001b[0m \u001b[1;36m1\u001b[0m\u001b[1;33m:\u001b[0m\u001b[1;33m\u001b[0m\u001b[1;33m\u001b[0m\u001b[0m\n",
      "\u001b[1;32m~\\Anaconda3\\lib\\site-packages\\joblib\\parallel.py\u001b[0m in \u001b[0;36m__call__\u001b[1;34m(self, iterable)\u001b[0m\n\u001b[0;32m    932\u001b[0m \u001b[1;33m\u001b[0m\u001b[0m\n\u001b[0;32m    933\u001b[0m             \u001b[1;32mwith\u001b[0m \u001b[0mself\u001b[0m\u001b[1;33m.\u001b[0m\u001b[0m_backend\u001b[0m\u001b[1;33m.\u001b[0m\u001b[0mretrieval_context\u001b[0m\u001b[1;33m(\u001b[0m\u001b[1;33m)\u001b[0m\u001b[1;33m:\u001b[0m\u001b[1;33m\u001b[0m\u001b[1;33m\u001b[0m\u001b[0m\n\u001b[1;32m--> 934\u001b[1;33m                 \u001b[0mself\u001b[0m\u001b[1;33m.\u001b[0m\u001b[0mretrieve\u001b[0m\u001b[1;33m(\u001b[0m\u001b[1;33m)\u001b[0m\u001b[1;33m\u001b[0m\u001b[1;33m\u001b[0m\u001b[0m\n\u001b[0m\u001b[0;32m    935\u001b[0m             \u001b[1;31m# Make sure that we get a last message telling us we are done\u001b[0m\u001b[1;33m\u001b[0m\u001b[1;33m\u001b[0m\u001b[1;33m\u001b[0m\u001b[0m\n\u001b[0;32m    936\u001b[0m             \u001b[0melapsed_time\u001b[0m \u001b[1;33m=\u001b[0m \u001b[0mtime\u001b[0m\u001b[1;33m.\u001b[0m\u001b[0mtime\u001b[0m\u001b[1;33m(\u001b[0m\u001b[1;33m)\u001b[0m \u001b[1;33m-\u001b[0m \u001b[0mself\u001b[0m\u001b[1;33m.\u001b[0m\u001b[0m_start_time\u001b[0m\u001b[1;33m\u001b[0m\u001b[1;33m\u001b[0m\u001b[0m\n",
      "\u001b[1;32m~\\Anaconda3\\lib\\site-packages\\joblib\\parallel.py\u001b[0m in \u001b[0;36mretrieve\u001b[1;34m(self)\u001b[0m\n\u001b[0;32m    831\u001b[0m             \u001b[1;32mtry\u001b[0m\u001b[1;33m:\u001b[0m\u001b[1;33m\u001b[0m\u001b[1;33m\u001b[0m\u001b[0m\n\u001b[0;32m    832\u001b[0m                 \u001b[1;32mif\u001b[0m \u001b[0mgetattr\u001b[0m\u001b[1;33m(\u001b[0m\u001b[0mself\u001b[0m\u001b[1;33m.\u001b[0m\u001b[0m_backend\u001b[0m\u001b[1;33m,\u001b[0m \u001b[1;34m'supports_timeout'\u001b[0m\u001b[1;33m,\u001b[0m \u001b[1;32mFalse\u001b[0m\u001b[1;33m)\u001b[0m\u001b[1;33m:\u001b[0m\u001b[1;33m\u001b[0m\u001b[1;33m\u001b[0m\u001b[0m\n\u001b[1;32m--> 833\u001b[1;33m                     \u001b[0mself\u001b[0m\u001b[1;33m.\u001b[0m\u001b[0m_output\u001b[0m\u001b[1;33m.\u001b[0m\u001b[0mextend\u001b[0m\u001b[1;33m(\u001b[0m\u001b[0mjob\u001b[0m\u001b[1;33m.\u001b[0m\u001b[0mget\u001b[0m\u001b[1;33m(\u001b[0m\u001b[0mtimeout\u001b[0m\u001b[1;33m=\u001b[0m\u001b[0mself\u001b[0m\u001b[1;33m.\u001b[0m\u001b[0mtimeout\u001b[0m\u001b[1;33m)\u001b[0m\u001b[1;33m)\u001b[0m\u001b[1;33m\u001b[0m\u001b[1;33m\u001b[0m\u001b[0m\n\u001b[0m\u001b[0;32m    834\u001b[0m                 \u001b[1;32melse\u001b[0m\u001b[1;33m:\u001b[0m\u001b[1;33m\u001b[0m\u001b[1;33m\u001b[0m\u001b[0m\n\u001b[0;32m    835\u001b[0m                     \u001b[0mself\u001b[0m\u001b[1;33m.\u001b[0m\u001b[0m_output\u001b[0m\u001b[1;33m.\u001b[0m\u001b[0mextend\u001b[0m\u001b[1;33m(\u001b[0m\u001b[0mjob\u001b[0m\u001b[1;33m.\u001b[0m\u001b[0mget\u001b[0m\u001b[1;33m(\u001b[0m\u001b[1;33m)\u001b[0m\u001b[1;33m)\u001b[0m\u001b[1;33m\u001b[0m\u001b[1;33m\u001b[0m\u001b[0m\n",
      "\u001b[1;32m~\\Anaconda3\\lib\\site-packages\\joblib\\_parallel_backends.py\u001b[0m in \u001b[0;36mwrap_future_result\u001b[1;34m(future, timeout)\u001b[0m\n\u001b[0;32m    519\u001b[0m         AsyncResults.get from multiprocessing.\"\"\"\n\u001b[0;32m    520\u001b[0m         \u001b[1;32mtry\u001b[0m\u001b[1;33m:\u001b[0m\u001b[1;33m\u001b[0m\u001b[1;33m\u001b[0m\u001b[0m\n\u001b[1;32m--> 521\u001b[1;33m             \u001b[1;32mreturn\u001b[0m \u001b[0mfuture\u001b[0m\u001b[1;33m.\u001b[0m\u001b[0mresult\u001b[0m\u001b[1;33m(\u001b[0m\u001b[0mtimeout\u001b[0m\u001b[1;33m=\u001b[0m\u001b[0mtimeout\u001b[0m\u001b[1;33m)\u001b[0m\u001b[1;33m\u001b[0m\u001b[1;33m\u001b[0m\u001b[0m\n\u001b[0m\u001b[0;32m    522\u001b[0m         \u001b[1;32mexcept\u001b[0m \u001b[0mLokyTimeoutError\u001b[0m\u001b[1;33m:\u001b[0m\u001b[1;33m\u001b[0m\u001b[1;33m\u001b[0m\u001b[0m\n\u001b[0;32m    523\u001b[0m             \u001b[1;32mraise\u001b[0m \u001b[0mTimeoutError\u001b[0m\u001b[1;33m(\u001b[0m\u001b[1;33m)\u001b[0m\u001b[1;33m\u001b[0m\u001b[1;33m\u001b[0m\u001b[0m\n",
      "\u001b[1;32m~\\Anaconda3\\lib\\concurrent\\futures\\_base.py\u001b[0m in \u001b[0;36mresult\u001b[1;34m(self, timeout)\u001b[0m\n\u001b[0;32m    433\u001b[0m                 \u001b[1;32mraise\u001b[0m \u001b[0mCancelledError\u001b[0m\u001b[1;33m(\u001b[0m\u001b[1;33m)\u001b[0m\u001b[1;33m\u001b[0m\u001b[1;33m\u001b[0m\u001b[0m\n\u001b[0;32m    434\u001b[0m             \u001b[1;32melif\u001b[0m \u001b[0mself\u001b[0m\u001b[1;33m.\u001b[0m\u001b[0m_state\u001b[0m \u001b[1;33m==\u001b[0m \u001b[0mFINISHED\u001b[0m\u001b[1;33m:\u001b[0m\u001b[1;33m\u001b[0m\u001b[1;33m\u001b[0m\u001b[0m\n\u001b[1;32m--> 435\u001b[1;33m                 \u001b[1;32mreturn\u001b[0m \u001b[0mself\u001b[0m\u001b[1;33m.\u001b[0m\u001b[0m__get_result\u001b[0m\u001b[1;33m(\u001b[0m\u001b[1;33m)\u001b[0m\u001b[1;33m\u001b[0m\u001b[1;33m\u001b[0m\u001b[0m\n\u001b[0m\u001b[0;32m    436\u001b[0m             \u001b[1;32melse\u001b[0m\u001b[1;33m:\u001b[0m\u001b[1;33m\u001b[0m\u001b[1;33m\u001b[0m\u001b[0m\n\u001b[0;32m    437\u001b[0m                 \u001b[1;32mraise\u001b[0m \u001b[0mTimeoutError\u001b[0m\u001b[1;33m(\u001b[0m\u001b[1;33m)\u001b[0m\u001b[1;33m\u001b[0m\u001b[1;33m\u001b[0m\u001b[0m\n",
      "\u001b[1;32m~\\Anaconda3\\lib\\concurrent\\futures\\_base.py\u001b[0m in \u001b[0;36m__get_result\u001b[1;34m(self)\u001b[0m\n\u001b[0;32m    382\u001b[0m     \u001b[1;32mdef\u001b[0m \u001b[0m__get_result\u001b[0m\u001b[1;33m(\u001b[0m\u001b[0mself\u001b[0m\u001b[1;33m)\u001b[0m\u001b[1;33m:\u001b[0m\u001b[1;33m\u001b[0m\u001b[1;33m\u001b[0m\u001b[0m\n\u001b[0;32m    383\u001b[0m         \u001b[1;32mif\u001b[0m \u001b[0mself\u001b[0m\u001b[1;33m.\u001b[0m\u001b[0m_exception\u001b[0m\u001b[1;33m:\u001b[0m\u001b[1;33m\u001b[0m\u001b[1;33m\u001b[0m\u001b[0m\n\u001b[1;32m--> 384\u001b[1;33m             \u001b[1;32mraise\u001b[0m \u001b[0mself\u001b[0m\u001b[1;33m.\u001b[0m\u001b[0m_exception\u001b[0m\u001b[1;33m\u001b[0m\u001b[1;33m\u001b[0m\u001b[0m\n\u001b[0m\u001b[0;32m    385\u001b[0m         \u001b[1;32melse\u001b[0m\u001b[1;33m:\u001b[0m\u001b[1;33m\u001b[0m\u001b[1;33m\u001b[0m\u001b[0m\n\u001b[0;32m    386\u001b[0m             \u001b[1;32mreturn\u001b[0m \u001b[0mself\u001b[0m\u001b[1;33m.\u001b[0m\u001b[0m_result\u001b[0m\u001b[1;33m\u001b[0m\u001b[1;33m\u001b[0m\u001b[0m\n",
      "\u001b[1;31mXGBoostError\u001b[0m: [07:00:04] C:\\Users\\Administrator\\workspace\\xgboost-win64_release_1.2.0\\src\\gbm\\gbm.cc:26: Unknown gbm type gdlinear"
     ]
    }
   ],
   "source": [
    "random_cv.fit(X_train,Y_train)"
   ]
  },
  {
   "cell_type": "code",
   "execution_count": null,
   "metadata": {},
   "outputs": [],
   "source": []
  },
  {
   "cell_type": "code",
   "execution_count": 133,
   "metadata": {},
   "outputs": [],
   "source": [
    "# After \"training gets executed\", you save it in \"picke file\" so you don't have to train again and again ...\n",
    "\n",
    "import pickle\n",
    "filename = 'finalized_model.pkl'\n",
    "pickle.dump(classifier, open(filename, 'wb'))"
   ]
  },
  {
   "cell_type": "code",
   "execution_count": 134,
   "metadata": {},
   "outputs": [],
   "source": [
    "y_pred = classifier.predict(df_test)"
   ]
  },
  {
   "cell_type": "code",
   "execution_count": 135,
   "metadata": {},
   "outputs": [
    {
     "data": {
      "text/plain": [
       "array([126554.01, 144463.1 , 204446.92, ..., 154283.12, 106152.11,\n",
       "       234151.42], dtype=float32)"
      ]
     },
     "execution_count": 135,
     "metadata": {},
     "output_type": "execute_result"
    }
   ],
   "source": [
    "y_pred"
   ]
  },
  {
   "cell_type": "code",
   "execution_count": 136,
   "metadata": {},
   "outputs": [],
   "source": [
    "# Creating the sample submission file to submit to the kaggle\n",
    "\n",
    "pred = pd.DataFrame(y_pred)\n",
    "sub_df = pd.read_csv('sample_submission.csv')\n",
    "\n",
    "datasets = pd.concat([sub_df['Id'],pred], axis =1)\n",
    "\n",
    "datasets.columns = ['Id','SalePrice']\n",
    "\n",
    "datasets.to_csv('sample_submissions.csv', index = False)"
   ]
  },
  {
   "cell_type": "code",
   "execution_count": 137,
   "metadata": {},
   "outputs": [
    {
     "data": {
      "text/plain": [
       "'C:\\\\Users\\\\Prasanna R'"
      ]
     },
     "execution_count": 137,
     "metadata": {},
     "output_type": "execute_result"
    }
   ],
   "source": [
    "pwd"
   ]
  },
  {
   "cell_type": "code",
   "execution_count": null,
   "metadata": {},
   "outputs": [],
   "source": []
  }
 ],
 "metadata": {
  "kernelspec": {
   "display_name": "Python 3",
   "language": "python",
   "name": "python3"
  },
  "language_info": {
   "codemirror_mode": {
    "name": "ipython",
    "version": 3
   },
   "file_extension": ".py",
   "mimetype": "text/x-python",
   "name": "python",
   "nbconvert_exporter": "python",
   "pygments_lexer": "ipython3",
   "version": "3.7.4"
  }
 },
 "nbformat": 4,
 "nbformat_minor": 2
}
